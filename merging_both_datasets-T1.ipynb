{
 "cells": [
  {
   "cell_type": "code",
   "execution_count": 3,
   "id": "f50ac17f-5acc-49a2-bdff-1b66d6686c4e",
   "metadata": {},
   "outputs": [],
   "source": [
    "import pandas as pd\n",
    "import numpy as np\n",
    "import matplotlib.pyplot as plt\n",
    "import seaborn as sns\n",
    "%matplotlib inline"
   ]
  },
  {
   "cell_type": "code",
   "execution_count": 33,
   "id": "c13d085c-0f06-4fb9-abf8-d47f11ff94c8",
   "metadata": {},
   "outputs": [],
   "source": [
    "df1 = pd.read_csv('cleaned_trans_df.csv')"
   ]
  },
  {
   "cell_type": "code",
   "execution_count": 35,
   "id": "6bf0a827-8500-4561-8d84-6fe1a1752e48",
   "metadata": {},
   "outputs": [
    {
     "data": {
      "text/html": [
       "<div>\n",
       "<style scoped>\n",
       "    .dataframe tbody tr th:only-of-type {\n",
       "        vertical-align: middle;\n",
       "    }\n",
       "\n",
       "    .dataframe tbody tr th {\n",
       "        vertical-align: top;\n",
       "    }\n",
       "\n",
       "    .dataframe thead th {\n",
       "        text-align: right;\n",
       "    }\n",
       "</style>\n",
       "<table border=\"1\" class=\"dataframe\">\n",
       "  <thead>\n",
       "    <tr style=\"text-align: right;\">\n",
       "      <th></th>\n",
       "      <th>Date</th>\n",
       "      <th>STORE_NBR</th>\n",
       "      <th>LYLTY_CARD_NBR</th>\n",
       "      <th>TXN_ID</th>\n",
       "      <th>PROD_NBR</th>\n",
       "      <th>product_name</th>\n",
       "      <th>Brand_name</th>\n",
       "      <th>packet_size</th>\n",
       "      <th>prod_qty</th>\n",
       "      <th>total_sales</th>\n",
       "      <th>Year</th>\n",
       "      <th>month_num</th>\n",
       "      <th>month_name</th>\n",
       "      <th>weekday</th>\n",
       "      <th>weekday_num</th>\n",
       "      <th>quarter</th>\n",
       "    </tr>\n",
       "  </thead>\n",
       "  <tbody>\n",
       "    <tr>\n",
       "      <th>0</th>\n",
       "      <td>5/20/2019</td>\n",
       "      <td>1</td>\n",
       "      <td>1343</td>\n",
       "      <td>383</td>\n",
       "      <td>61</td>\n",
       "      <td>Smiths Crinkle Cut Chips Chicken</td>\n",
       "      <td>Smiths</td>\n",
       "      <td>170</td>\n",
       "      <td>2</td>\n",
       "      <td>3.1</td>\n",
       "      <td>2019</td>\n",
       "      <td>5</td>\n",
       "      <td>May</td>\n",
       "      <td>Monday</td>\n",
       "      <td>2</td>\n",
       "      <td>2</td>\n",
       "    </tr>\n",
       "    <tr>\n",
       "      <th>1</th>\n",
       "      <td>5/16/2019</td>\n",
       "      <td>4</td>\n",
       "      <td>4149</td>\n",
       "      <td>3333</td>\n",
       "      <td>16</td>\n",
       "      <td>Smiths Crinkle Chips Salt &amp; Vinegar</td>\n",
       "      <td>Smiths</td>\n",
       "      <td>330</td>\n",
       "      <td>1</td>\n",
       "      <td>5.7</td>\n",
       "      <td>2019</td>\n",
       "      <td>5</td>\n",
       "      <td>May</td>\n",
       "      <td>Thursday</td>\n",
       "      <td>5</td>\n",
       "      <td>2</td>\n",
       "    </tr>\n",
       "    <tr>\n",
       "      <th>2</th>\n",
       "      <td>5/17/2019</td>\n",
       "      <td>7</td>\n",
       "      <td>7215</td>\n",
       "      <td>7176</td>\n",
       "      <td>16</td>\n",
       "      <td>Smiths Crinkle Chips Salt &amp; Vinegar</td>\n",
       "      <td>Smiths</td>\n",
       "      <td>330</td>\n",
       "      <td>1</td>\n",
       "      <td>5.7</td>\n",
       "      <td>2019</td>\n",
       "      <td>5</td>\n",
       "      <td>May</td>\n",
       "      <td>Friday</td>\n",
       "      <td>6</td>\n",
       "      <td>2</td>\n",
       "    </tr>\n",
       "    <tr>\n",
       "      <th>3</th>\n",
       "      <td>5/15/2019</td>\n",
       "      <td>19</td>\n",
       "      <td>19272</td>\n",
       "      <td>16686</td>\n",
       "      <td>44</td>\n",
       "      <td>Thins Chips Light&amp; Tangy</td>\n",
       "      <td>Thins</td>\n",
       "      <td>175</td>\n",
       "      <td>1</td>\n",
       "      <td>3.3</td>\n",
       "      <td>2019</td>\n",
       "      <td>5</td>\n",
       "      <td>May</td>\n",
       "      <td>Wednesday</td>\n",
       "      <td>4</td>\n",
       "      <td>2</td>\n",
       "    </tr>\n",
       "    <tr>\n",
       "      <th>4</th>\n",
       "      <td>5/18/2019</td>\n",
       "      <td>45</td>\n",
       "      <td>45220</td>\n",
       "      <td>41651</td>\n",
       "      <td>22</td>\n",
       "      <td>Thins Chips Originl saltd</td>\n",
       "      <td>Thins</td>\n",
       "      <td>175</td>\n",
       "      <td>1</td>\n",
       "      <td>3.3</td>\n",
       "      <td>2019</td>\n",
       "      <td>5</td>\n",
       "      <td>May</td>\n",
       "      <td>Saturday</td>\n",
       "      <td>7</td>\n",
       "      <td>2</td>\n",
       "    </tr>\n",
       "  </tbody>\n",
       "</table>\n",
       "</div>"
      ],
      "text/plain": [
       "        Date  STORE_NBR  LYLTY_CARD_NBR  TXN_ID  PROD_NBR  \\\n",
       "0  5/20/2019          1            1343     383        61   \n",
       "1  5/16/2019          4            4149    3333        16   \n",
       "2  5/17/2019          7            7215    7176        16   \n",
       "3  5/15/2019         19           19272   16686        44   \n",
       "4  5/18/2019         45           45220   41651        22   \n",
       "\n",
       "                          product_name Brand_name  packet_size  prod_qty  \\\n",
       "0     Smiths Crinkle Cut Chips Chicken     Smiths          170         2   \n",
       "1  Smiths Crinkle Chips Salt & Vinegar     Smiths          330         1   \n",
       "2  Smiths Crinkle Chips Salt & Vinegar     Smiths          330         1   \n",
       "3             Thins Chips Light& Tangy      Thins          175         1   \n",
       "4            Thins Chips Originl saltd      Thins          175         1   \n",
       "\n",
       "   total_sales  Year  month_num month_name    weekday  weekday_num  quarter  \n",
       "0          3.1  2019          5        May     Monday            2        2  \n",
       "1          5.7  2019          5        May   Thursday            5        2  \n",
       "2          5.7  2019          5        May     Friday            6        2  \n",
       "3          3.3  2019          5        May  Wednesday            4        2  \n",
       "4          3.3  2019          5        May   Saturday            7        2  "
      ]
     },
     "execution_count": 35,
     "metadata": {},
     "output_type": "execute_result"
    }
   ],
   "source": [
    "df1.head()"
   ]
  },
  {
   "cell_type": "code",
   "execution_count": 37,
   "id": "a6f5a113-953d-4638-b0e4-d961705fa916",
   "metadata": {},
   "outputs": [],
   "source": [
    "df2 = pd.read_csv('purchase_behaviour.csv')"
   ]
  },
  {
   "cell_type": "code",
   "execution_count": 39,
   "id": "d2a29cc7-df3b-469b-9b80-c37d6fc9ec84",
   "metadata": {},
   "outputs": [
    {
     "data": {
      "text/html": [
       "<div>\n",
       "<style scoped>\n",
       "    .dataframe tbody tr th:only-of-type {\n",
       "        vertical-align: middle;\n",
       "    }\n",
       "\n",
       "    .dataframe tbody tr th {\n",
       "        vertical-align: top;\n",
       "    }\n",
       "\n",
       "    .dataframe thead th {\n",
       "        text-align: right;\n",
       "    }\n",
       "</style>\n",
       "<table border=\"1\" class=\"dataframe\">\n",
       "  <thead>\n",
       "    <tr style=\"text-align: right;\">\n",
       "      <th></th>\n",
       "      <th>LYLTY_CARD_NBR</th>\n",
       "      <th>lifestage</th>\n",
       "      <th>premium_customer</th>\n",
       "    </tr>\n",
       "  </thead>\n",
       "  <tbody>\n",
       "    <tr>\n",
       "      <th>0</th>\n",
       "      <td>1000</td>\n",
       "      <td>YOUNG SINGLES/COUPLES</td>\n",
       "      <td>Premium</td>\n",
       "    </tr>\n",
       "    <tr>\n",
       "      <th>1</th>\n",
       "      <td>1002</td>\n",
       "      <td>YOUNG SINGLES/COUPLES</td>\n",
       "      <td>Mainstream</td>\n",
       "    </tr>\n",
       "    <tr>\n",
       "      <th>2</th>\n",
       "      <td>1003</td>\n",
       "      <td>YOUNG FAMILIES</td>\n",
       "      <td>Budget</td>\n",
       "    </tr>\n",
       "    <tr>\n",
       "      <th>3</th>\n",
       "      <td>1004</td>\n",
       "      <td>OLDER SINGLES/COUPLES</td>\n",
       "      <td>Mainstream</td>\n",
       "    </tr>\n",
       "    <tr>\n",
       "      <th>4</th>\n",
       "      <td>1005</td>\n",
       "      <td>MIDAGE SINGLES/COUPLES</td>\n",
       "      <td>Mainstream</td>\n",
       "    </tr>\n",
       "  </tbody>\n",
       "</table>\n",
       "</div>"
      ],
      "text/plain": [
       "   LYLTY_CARD_NBR               lifestage premium_customer\n",
       "0            1000   YOUNG SINGLES/COUPLES          Premium\n",
       "1            1002   YOUNG SINGLES/COUPLES       Mainstream\n",
       "2            1003          YOUNG FAMILIES           Budget\n",
       "3            1004   OLDER SINGLES/COUPLES       Mainstream\n",
       "4            1005  MIDAGE SINGLES/COUPLES       Mainstream"
      ]
     },
     "execution_count": 39,
     "metadata": {},
     "output_type": "execute_result"
    }
   ],
   "source": [
    "df2.head()"
   ]
  },
  {
   "cell_type": "code",
   "execution_count": 41,
   "id": "c9912ffa-9cd7-4a19-b8cd-11ff286f7cf8",
   "metadata": {},
   "outputs": [
    {
     "data": {
      "text/plain": [
       "(49770, 16)"
      ]
     },
     "metadata": {},
     "output_type": "display_data"
    },
    {
     "data": {
      "text/plain": [
       "(72637, 3)"
      ]
     },
     "metadata": {},
     "output_type": "display_data"
    }
   ],
   "source": [
    "display(df1.shape)\n",
    "display(df2.shape)"
   ]
  },
  {
   "cell_type": "markdown",
   "id": "b6f2d8d7-fc3c-4684-ac04-a807614bc636",
   "metadata": {},
   "source": [
    "### Merging both datasets"
   ]
  },
  {
   "cell_type": "markdown",
   "id": "94ad2e93-87c7-4840-80a0-846e94b020a2",
   "metadata": {},
   "source": [
    "Our cleaned transaction dataset has around 49,000 rows while the customer dataset has around 72,637 rows. So it is clear that we want all the data from the cleaned transaction dataset and the matching data from the customer dataset (left join). It can be done by using pandas library merge function and since we can see that in both datasets `LYLTY_CARD_NBR` column exists which will be a primary key and both datasets will be merged(left join) on the basis of this key"
   ]
  },
  {
   "cell_type": "code",
   "execution_count": 46,
   "id": "fbaabd7c-47c4-4b3f-a655-6941c6afbdb8",
   "metadata": {},
   "outputs": [],
   "source": [
    "# merge both datasets\n",
    "combined_df = pd.merge(df1, df2, how = 'left', on = 'LYLTY_CARD_NBR')"
   ]
  },
  {
   "cell_type": "code",
   "execution_count": 48,
   "id": "027e2c69-9719-407c-a2c9-609815734a89",
   "metadata": {},
   "outputs": [
    {
     "data": {
      "text/html": [
       "<div>\n",
       "<style scoped>\n",
       "    .dataframe tbody tr th:only-of-type {\n",
       "        vertical-align: middle;\n",
       "    }\n",
       "\n",
       "    .dataframe tbody tr th {\n",
       "        vertical-align: top;\n",
       "    }\n",
       "\n",
       "    .dataframe thead th {\n",
       "        text-align: right;\n",
       "    }\n",
       "</style>\n",
       "<table border=\"1\" class=\"dataframe\">\n",
       "  <thead>\n",
       "    <tr style=\"text-align: right;\">\n",
       "      <th></th>\n",
       "      <th>Date</th>\n",
       "      <th>STORE_NBR</th>\n",
       "      <th>LYLTY_CARD_NBR</th>\n",
       "      <th>TXN_ID</th>\n",
       "      <th>PROD_NBR</th>\n",
       "      <th>product_name</th>\n",
       "      <th>Brand_name</th>\n",
       "      <th>packet_size</th>\n",
       "      <th>prod_qty</th>\n",
       "      <th>total_sales</th>\n",
       "      <th>Year</th>\n",
       "      <th>month_num</th>\n",
       "      <th>month_name</th>\n",
       "      <th>weekday</th>\n",
       "      <th>weekday_num</th>\n",
       "      <th>quarter</th>\n",
       "      <th>lifestage</th>\n",
       "      <th>premium_customer</th>\n",
       "    </tr>\n",
       "  </thead>\n",
       "  <tbody>\n",
       "    <tr>\n",
       "      <th>0</th>\n",
       "      <td>5/20/2019</td>\n",
       "      <td>1</td>\n",
       "      <td>1343</td>\n",
       "      <td>383</td>\n",
       "      <td>61</td>\n",
       "      <td>Smiths Crinkle Cut Chips Chicken</td>\n",
       "      <td>Smiths</td>\n",
       "      <td>170</td>\n",
       "      <td>2</td>\n",
       "      <td>3.1</td>\n",
       "      <td>2019</td>\n",
       "      <td>5</td>\n",
       "      <td>May</td>\n",
       "      <td>Monday</td>\n",
       "      <td>2</td>\n",
       "      <td>2</td>\n",
       "      <td>MIDAGE SINGLES/COUPLES</td>\n",
       "      <td>Budget</td>\n",
       "    </tr>\n",
       "    <tr>\n",
       "      <th>1</th>\n",
       "      <td>5/16/2019</td>\n",
       "      <td>4</td>\n",
       "      <td>4149</td>\n",
       "      <td>3333</td>\n",
       "      <td>16</td>\n",
       "      <td>Smiths Crinkle Chips Salt &amp; Vinegar</td>\n",
       "      <td>Smiths</td>\n",
       "      <td>330</td>\n",
       "      <td>1</td>\n",
       "      <td>5.7</td>\n",
       "      <td>2019</td>\n",
       "      <td>5</td>\n",
       "      <td>May</td>\n",
       "      <td>Thursday</td>\n",
       "      <td>5</td>\n",
       "      <td>2</td>\n",
       "      <td>MIDAGE SINGLES/COUPLES</td>\n",
       "      <td>Budget</td>\n",
       "    </tr>\n",
       "    <tr>\n",
       "      <th>2</th>\n",
       "      <td>5/17/2019</td>\n",
       "      <td>7</td>\n",
       "      <td>7215</td>\n",
       "      <td>7176</td>\n",
       "      <td>16</td>\n",
       "      <td>Smiths Crinkle Chips Salt &amp; Vinegar</td>\n",
       "      <td>Smiths</td>\n",
       "      <td>330</td>\n",
       "      <td>1</td>\n",
       "      <td>5.7</td>\n",
       "      <td>2019</td>\n",
       "      <td>5</td>\n",
       "      <td>May</td>\n",
       "      <td>Friday</td>\n",
       "      <td>6</td>\n",
       "      <td>2</td>\n",
       "      <td>MIDAGE SINGLES/COUPLES</td>\n",
       "      <td>Budget</td>\n",
       "    </tr>\n",
       "    <tr>\n",
       "      <th>3</th>\n",
       "      <td>5/15/2019</td>\n",
       "      <td>19</td>\n",
       "      <td>19272</td>\n",
       "      <td>16686</td>\n",
       "      <td>44</td>\n",
       "      <td>Thins Chips Light&amp; Tangy</td>\n",
       "      <td>Thins</td>\n",
       "      <td>175</td>\n",
       "      <td>1</td>\n",
       "      <td>3.3</td>\n",
       "      <td>2019</td>\n",
       "      <td>5</td>\n",
       "      <td>May</td>\n",
       "      <td>Wednesday</td>\n",
       "      <td>4</td>\n",
       "      <td>2</td>\n",
       "      <td>MIDAGE SINGLES/COUPLES</td>\n",
       "      <td>Budget</td>\n",
       "    </tr>\n",
       "    <tr>\n",
       "      <th>4</th>\n",
       "      <td>5/18/2019</td>\n",
       "      <td>45</td>\n",
       "      <td>45220</td>\n",
       "      <td>41651</td>\n",
       "      <td>22</td>\n",
       "      <td>Thins Chips Originl saltd</td>\n",
       "      <td>Thins</td>\n",
       "      <td>175</td>\n",
       "      <td>1</td>\n",
       "      <td>3.3</td>\n",
       "      <td>2019</td>\n",
       "      <td>5</td>\n",
       "      <td>May</td>\n",
       "      <td>Saturday</td>\n",
       "      <td>7</td>\n",
       "      <td>2</td>\n",
       "      <td>MIDAGE SINGLES/COUPLES</td>\n",
       "      <td>Budget</td>\n",
       "    </tr>\n",
       "  </tbody>\n",
       "</table>\n",
       "</div>"
      ],
      "text/plain": [
       "        Date  STORE_NBR  LYLTY_CARD_NBR  TXN_ID  PROD_NBR  \\\n",
       "0  5/20/2019          1            1343     383        61   \n",
       "1  5/16/2019          4            4149    3333        16   \n",
       "2  5/17/2019          7            7215    7176        16   \n",
       "3  5/15/2019         19           19272   16686        44   \n",
       "4  5/18/2019         45           45220   41651        22   \n",
       "\n",
       "                          product_name Brand_name  packet_size  prod_qty  \\\n",
       "0     Smiths Crinkle Cut Chips Chicken     Smiths          170         2   \n",
       "1  Smiths Crinkle Chips Salt & Vinegar     Smiths          330         1   \n",
       "2  Smiths Crinkle Chips Salt & Vinegar     Smiths          330         1   \n",
       "3             Thins Chips Light& Tangy      Thins          175         1   \n",
       "4            Thins Chips Originl saltd      Thins          175         1   \n",
       "\n",
       "   total_sales  Year  month_num month_name    weekday  weekday_num  quarter  \\\n",
       "0          3.1  2019          5        May     Monday            2        2   \n",
       "1          5.7  2019          5        May   Thursday            5        2   \n",
       "2          5.7  2019          5        May     Friday            6        2   \n",
       "3          3.3  2019          5        May  Wednesday            4        2   \n",
       "4          3.3  2019          5        May   Saturday            7        2   \n",
       "\n",
       "                lifestage premium_customer  \n",
       "0  MIDAGE SINGLES/COUPLES           Budget  \n",
       "1  MIDAGE SINGLES/COUPLES           Budget  \n",
       "2  MIDAGE SINGLES/COUPLES           Budget  \n",
       "3  MIDAGE SINGLES/COUPLES           Budget  \n",
       "4  MIDAGE SINGLES/COUPLES           Budget  "
      ]
     },
     "execution_count": 48,
     "metadata": {},
     "output_type": "execute_result"
    }
   ],
   "source": [
    "combined_df.head()"
   ]
  },
  {
   "cell_type": "markdown",
   "id": "fe1a6d98-d169-46f4-9d7e-effc8f4d6456",
   "metadata": {},
   "source": [
    "Both datasets have been merged together."
   ]
  },
  {
   "cell_type": "code",
   "execution_count": 53,
   "id": "b10b45dc-2e47-4cd9-952b-4bf3f9fdaf87",
   "metadata": {},
   "outputs": [
    {
     "data": {
      "text/plain": [
       "(49770, 18)"
      ]
     },
     "execution_count": 53,
     "metadata": {},
     "output_type": "execute_result"
    }
   ],
   "source": [
    "combined_df.shape"
   ]
  },
  {
   "cell_type": "code",
   "execution_count": 55,
   "id": "3af2a938-2e0c-4675-9663-d7c0cbae160d",
   "metadata": {},
   "outputs": [
    {
     "data": {
      "text/plain": [
       "Date                0\n",
       "STORE_NBR           0\n",
       "LYLTY_CARD_NBR      0\n",
       "TXN_ID              0\n",
       "PROD_NBR            0\n",
       "product_name        0\n",
       "Brand_name          0\n",
       "packet_size         0\n",
       "prod_qty            0\n",
       "total_sales         0\n",
       "Year                0\n",
       "month_num           0\n",
       "month_name          0\n",
       "weekday             0\n",
       "weekday_num         0\n",
       "quarter             0\n",
       "lifestage           0\n",
       "premium_customer    0\n",
       "dtype: int64"
      ]
     },
     "execution_count": 55,
     "metadata": {},
     "output_type": "execute_result"
    }
   ],
   "source": [
    "combined_df.isnull().sum()"
   ]
  },
  {
   "cell_type": "markdown",
   "id": "cfb21d89-9094-42e5-94b0-a288c0401a9f",
   "metadata": {},
   "source": [
    "There are no null values which is good"
   ]
  },
  {
   "cell_type": "code",
   "execution_count": 60,
   "id": "636981aa-6eea-41bc-9a25-61559027e4a7",
   "metadata": {},
   "outputs": [
    {
     "data": {
      "text/plain": [
       "0"
      ]
     },
     "execution_count": 60,
     "metadata": {},
     "output_type": "execute_result"
    }
   ],
   "source": [
    "# checking for duplicated values\n",
    "combined_df.duplicated().sum()"
   ]
  },
  {
   "cell_type": "markdown",
   "id": "2d9da529-7b68-4d8c-93d6-e0cc94001531",
   "metadata": {},
   "source": [
    "We will be conducting further data analysis on this dataset to explore more about the data and to understand the customer segmentations so let's save this file into excel file."
   ]
  },
  {
   "cell_type": "code",
   "execution_count": 67,
   "id": "ecdcf455-4bdb-428b-8e92-c509dbf11e48",
   "metadata": {},
   "outputs": [],
   "source": [
    "combined_df.to_csv('Final_dataset.csv')"
   ]
  },
  {
   "cell_type": "code",
   "execution_count": null,
   "id": "f0fb4ded-24a3-43c4-b5dc-907b263f98f2",
   "metadata": {},
   "outputs": [],
   "source": []
  }
 ],
 "metadata": {
  "kernelspec": {
   "display_name": "Python 3 (ipykernel)",
   "language": "python",
   "name": "python3"
  },
  "language_info": {
   "codemirror_mode": {
    "name": "ipython",
    "version": 3
   },
   "file_extension": ".py",
   "mimetype": "text/x-python",
   "name": "python",
   "nbconvert_exporter": "python",
   "pygments_lexer": "ipython3",
   "version": "3.12.4"
  }
 },
 "nbformat": 4,
 "nbformat_minor": 5
}
