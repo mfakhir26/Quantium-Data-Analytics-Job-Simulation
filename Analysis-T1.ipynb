{
 "cells": [
  {
   "cell_type": "code",
   "execution_count": 1,
   "id": "c5dbb9ed-7478-461f-b43a-6715d989f2a7",
   "metadata": {},
   "outputs": [],
   "source": [
    "import pandas as pd\n",
    "import numpy as np\n",
    "import matplotlib as pyplot"
   ]
  },
  {
   "cell_type": "code",
   "execution_count": 2,
   "id": "34e6b53c-39d5-4dad-916b-622aee4e7a7b",
   "metadata": {},
   "outputs": [],
   "source": [
    "df = pd.read_csv('Final_dataset.csv')"
   ]
  },
  {
   "cell_type": "code",
   "execution_count": 3,
   "id": "c5f27d40-6ec8-4292-8dda-0ec1cf69e1ec",
   "metadata": {},
   "outputs": [
    {
     "data": {
      "text/plain": [
       "Index(['Unnamed: 0', 'Date', 'STORE_NBR', 'LYLTY_CARD_NBR', 'TXN_ID',\n",
       "       'PROD_NBR', 'product_name', 'Brand_name', 'packet_size', 'prod_qty',\n",
       "       'total_sales', 'Year', 'month_num', 'month_name', 'weekday',\n",
       "       'weekday_num', 'quarter', 'lifestage', 'premium_customer'],\n",
       "      dtype='object')"
      ]
     },
     "execution_count": 3,
     "metadata": {},
     "output_type": "execute_result"
    }
   ],
   "source": [
    "df.columns"
   ]
  },
  {
   "cell_type": "code",
   "execution_count": 4,
   "id": "659bc534-eb41-4fb9-8d93-49d6364bd6db",
   "metadata": {},
   "outputs": [],
   "source": [
    "df.drop('Unnamed: 0', axis = 1, inplace = True)"
   ]
  },
  {
   "cell_type": "code",
   "execution_count": 5,
   "id": "4603b917-6be3-4183-af79-2151b808d61a",
   "metadata": {},
   "outputs": [],
   "source": [
    "df = df.reset_index()"
   ]
  },
  {
   "cell_type": "code",
   "execution_count": 6,
   "id": "af362c13-d65f-4ebd-89e4-9a5b786f0197",
   "metadata": {},
   "outputs": [
    {
     "data": {
      "text/plain": [
       "Index(['index', 'Date', 'STORE_NBR', 'LYLTY_CARD_NBR', 'TXN_ID', 'PROD_NBR',\n",
       "       'product_name', 'Brand_name', 'packet_size', 'prod_qty', 'total_sales',\n",
       "       'Year', 'month_num', 'month_name', 'weekday', 'weekday_num', 'quarter',\n",
       "       'lifestage', 'premium_customer'],\n",
       "      dtype='object')"
      ]
     },
     "execution_count": 6,
     "metadata": {},
     "output_type": "execute_result"
    }
   ],
   "source": [
    "df.columns"
   ]
  },
  {
   "cell_type": "code",
   "execution_count": 7,
   "id": "9dd54c4f-9285-4d41-bc63-3f52a8d81549",
   "metadata": {
    "scrolled": true
   },
   "outputs": [
    {
     "data": {
      "text/html": [
       "<div>\n",
       "<style scoped>\n",
       "    .dataframe tbody tr th:only-of-type {\n",
       "        vertical-align: middle;\n",
       "    }\n",
       "\n",
       "    .dataframe tbody tr th {\n",
       "        vertical-align: top;\n",
       "    }\n",
       "\n",
       "    .dataframe thead th {\n",
       "        text-align: right;\n",
       "    }\n",
       "</style>\n",
       "<table border=\"1\" class=\"dataframe\">\n",
       "  <thead>\n",
       "    <tr style=\"text-align: right;\">\n",
       "      <th></th>\n",
       "      <th>index</th>\n",
       "      <th>Date</th>\n",
       "      <th>STORE_NBR</th>\n",
       "      <th>LYLTY_CARD_NBR</th>\n",
       "      <th>TXN_ID</th>\n",
       "      <th>PROD_NBR</th>\n",
       "      <th>product_name</th>\n",
       "      <th>Brand_name</th>\n",
       "      <th>packet_size</th>\n",
       "      <th>prod_qty</th>\n",
       "      <th>total_sales</th>\n",
       "      <th>Year</th>\n",
       "      <th>month_num</th>\n",
       "      <th>month_name</th>\n",
       "      <th>weekday</th>\n",
       "      <th>weekday_num</th>\n",
       "      <th>quarter</th>\n",
       "      <th>lifestage</th>\n",
       "      <th>premium_customer</th>\n",
       "    </tr>\n",
       "  </thead>\n",
       "  <tbody>\n",
       "    <tr>\n",
       "      <th>0</th>\n",
       "      <td>0</td>\n",
       "      <td>5/20/2019</td>\n",
       "      <td>1</td>\n",
       "      <td>1343</td>\n",
       "      <td>383</td>\n",
       "      <td>61</td>\n",
       "      <td>Smiths Crinkle Cut Chips Chicken</td>\n",
       "      <td>Smiths</td>\n",
       "      <td>170</td>\n",
       "      <td>2</td>\n",
       "      <td>3.1</td>\n",
       "      <td>2019</td>\n",
       "      <td>5</td>\n",
       "      <td>May</td>\n",
       "      <td>Monday</td>\n",
       "      <td>2</td>\n",
       "      <td>2</td>\n",
       "      <td>MIDAGE SINGLES/COUPLES</td>\n",
       "      <td>Budget</td>\n",
       "    </tr>\n",
       "    <tr>\n",
       "      <th>1</th>\n",
       "      <td>1</td>\n",
       "      <td>5/16/2019</td>\n",
       "      <td>4</td>\n",
       "      <td>4149</td>\n",
       "      <td>3333</td>\n",
       "      <td>16</td>\n",
       "      <td>Smiths Crinkle Chips Salt &amp; Vinegar</td>\n",
       "      <td>Smiths</td>\n",
       "      <td>330</td>\n",
       "      <td>1</td>\n",
       "      <td>5.7</td>\n",
       "      <td>2019</td>\n",
       "      <td>5</td>\n",
       "      <td>May</td>\n",
       "      <td>Thursday</td>\n",
       "      <td>5</td>\n",
       "      <td>2</td>\n",
       "      <td>MIDAGE SINGLES/COUPLES</td>\n",
       "      <td>Budget</td>\n",
       "    </tr>\n",
       "  </tbody>\n",
       "</table>\n",
       "</div>"
      ],
      "text/plain": [
       "   index       Date  STORE_NBR  LYLTY_CARD_NBR  TXN_ID  PROD_NBR  \\\n",
       "0      0  5/20/2019          1            1343     383        61   \n",
       "1      1  5/16/2019          4            4149    3333        16   \n",
       "\n",
       "                          product_name Brand_name  packet_size  prod_qty  \\\n",
       "0     Smiths Crinkle Cut Chips Chicken     Smiths          170         2   \n",
       "1  Smiths Crinkle Chips Salt & Vinegar     Smiths          330         1   \n",
       "\n",
       "   total_sales  Year  month_num month_name   weekday  weekday_num  quarter  \\\n",
       "0          3.1  2019          5        May    Monday            2        2   \n",
       "1          5.7  2019          5        May  Thursday            5        2   \n",
       "\n",
       "                lifestage premium_customer  \n",
       "0  MIDAGE SINGLES/COUPLES           Budget  \n",
       "1  MIDAGE SINGLES/COUPLES           Budget  "
      ]
     },
     "execution_count": 7,
     "metadata": {},
     "output_type": "execute_result"
    }
   ],
   "source": [
    "df.head(2)"
   ]
  },
  {
   "cell_type": "code",
   "execution_count": 8,
   "id": "367b3e85-d800-43f2-8957-ded6532c26d7",
   "metadata": {},
   "outputs": [
    {
     "data": {
      "text/plain": [
       "(49770, 19)"
      ]
     },
     "execution_count": 8,
     "metadata": {},
     "output_type": "execute_result"
    }
   ],
   "source": [
    "df.shape"
   ]
  },
  {
   "cell_type": "code",
   "execution_count": 9,
   "id": "37140546-ebbd-447d-833f-6772bb55dd4d",
   "metadata": {},
   "outputs": [
    {
     "data": {
      "text/html": [
       "<div>\n",
       "<style scoped>\n",
       "    .dataframe tbody tr th:only-of-type {\n",
       "        vertical-align: middle;\n",
       "    }\n",
       "\n",
       "    .dataframe tbody tr th {\n",
       "        vertical-align: top;\n",
       "    }\n",
       "\n",
       "    .dataframe thead th {\n",
       "        text-align: right;\n",
       "    }\n",
       "</style>\n",
       "<table border=\"1\" class=\"dataframe\">\n",
       "  <thead>\n",
       "    <tr style=\"text-align: right;\">\n",
       "      <th></th>\n",
       "      <th>premium_customer</th>\n",
       "      <th>Number of customers who buy chips</th>\n",
       "    </tr>\n",
       "  </thead>\n",
       "  <tbody>\n",
       "    <tr>\n",
       "      <th>0</th>\n",
       "      <td>Budget</td>\n",
       "      <td>17587</td>\n",
       "    </tr>\n",
       "    <tr>\n",
       "      <th>1</th>\n",
       "      <td>Mainstream</td>\n",
       "      <td>19149</td>\n",
       "    </tr>\n",
       "    <tr>\n",
       "      <th>2</th>\n",
       "      <td>Premium</td>\n",
       "      <td>13034</td>\n",
       "    </tr>\n",
       "  </tbody>\n",
       "</table>\n",
       "</div>"
      ],
      "text/plain": [
       "  premium_customer  Number of customers who buy chips\n",
       "0           Budget                              17587\n",
       "1       Mainstream                              19149\n",
       "2          Premium                              13034"
      ]
     },
     "execution_count": 9,
     "metadata": {},
     "output_type": "execute_result"
    }
   ],
   "source": [
    "x = pd.DataFrame(df.groupby(by = 'premium_customer')['index'].count())\n",
    "x = x.reset_index()\n",
    "x.rename(columns= {'index': 'Number of customers who buy chips'}, inplace = True)\n",
    "x"
   ]
  },
  {
   "cell_type": "markdown",
   "id": "ff5fa60d-5ba9-4eae-973a-9c7568f708fd",
   "metadata": {},
   "source": [
    "The mainstream customers have a large majority in the market who purchase chips as compared to the other categories Budget and Premium customers.\n",
    "- There are 17,587 customers who buy chips products in Budget segment.\n",
    "- There are 19,149 customers who buy chips products in Mainstream segment.\n",
    "- There are 13,034 customers who buy chips products in Premium segment."
   ]
  },
  {
   "cell_type": "markdown",
   "id": "0cf78c36-5124-4f49-b72e-2aeb147f3f6c",
   "metadata": {},
   "source": [
    "### Proportions\n",
    "\n",
    "We can compute proportions of the customer segments to see what portion of the spending the customers spend on the chips-like category products and we can also see the Proportion of customers in each customer segment overall to compare against the \n",
    "mix of customers who purchase chip.So we need to compute two proportions:\n",
    "- The proportion of the customers who purchase chips.\n",
    "- The porportion of the spending on the chips category to overall all the categories.\n",
    "\n",
    "Since, `Final_Dataset` includes all those customers who purchase chips products and we need to import our initial dataset `transaction_data` in which we have all the information about all the categories of the products which customers buys"
   ]
  },
  {
   "cell_type": "code",
   "execution_count": 12,
   "id": "4816ecc8-0881-41e8-a063-9e2eb63f8f55",
   "metadata": {},
   "outputs": [],
   "source": [
    "df2 = pd.read_excel('transaction_data.xlsx')"
   ]
  },
  {
   "cell_type": "code",
   "execution_count": 13,
   "id": "4ff1f45f-a168-4904-943d-db507757397f",
   "metadata": {},
   "outputs": [
    {
     "data": {
      "text/html": [
       "<div>\n",
       "<style scoped>\n",
       "    .dataframe tbody tr th:only-of-type {\n",
       "        vertical-align: middle;\n",
       "    }\n",
       "\n",
       "    .dataframe tbody tr th {\n",
       "        vertical-align: top;\n",
       "    }\n",
       "\n",
       "    .dataframe thead th {\n",
       "        text-align: right;\n",
       "    }\n",
       "</style>\n",
       "<table border=\"1\" class=\"dataframe\">\n",
       "  <thead>\n",
       "    <tr style=\"text-align: right;\">\n",
       "      <th></th>\n",
       "      <th>Date</th>\n",
       "      <th>STORE_NBR</th>\n",
       "      <th>LYLTY_CARD_NBR</th>\n",
       "      <th>TXN_ID</th>\n",
       "      <th>PROD_NBR</th>\n",
       "      <th>product_name</th>\n",
       "      <th>packet_size</th>\n",
       "      <th>prod_qty</th>\n",
       "      <th>total_sales</th>\n",
       "      <th>Year</th>\n",
       "      <th>month_num</th>\n",
       "      <th>month_name</th>\n",
       "      <th>weekday</th>\n",
       "      <th>weekday_num</th>\n",
       "      <th>quarter</th>\n",
       "    </tr>\n",
       "  </thead>\n",
       "  <tbody>\n",
       "    <tr>\n",
       "      <th>0</th>\n",
       "      <td>2018-10-17</td>\n",
       "      <td>1</td>\n",
       "      <td>1000</td>\n",
       "      <td>1</td>\n",
       "      <td>5</td>\n",
       "      <td>Natural Chip Compny SeaSalt175g</td>\n",
       "      <td>175</td>\n",
       "      <td>2</td>\n",
       "      <td>6.0</td>\n",
       "      <td>2018</td>\n",
       "      <td>10</td>\n",
       "      <td>October</td>\n",
       "      <td>Wednesday</td>\n",
       "      <td>4</td>\n",
       "      <td>4</td>\n",
       "    </tr>\n",
       "    <tr>\n",
       "      <th>1</th>\n",
       "      <td>2019-05-14</td>\n",
       "      <td>1</td>\n",
       "      <td>1307</td>\n",
       "      <td>348</td>\n",
       "      <td>66</td>\n",
       "      <td>CCs Nacho Cheese 175g</td>\n",
       "      <td>175</td>\n",
       "      <td>3</td>\n",
       "      <td>6.3</td>\n",
       "      <td>2019</td>\n",
       "      <td>5</td>\n",
       "      <td>May</td>\n",
       "      <td>Tuesday</td>\n",
       "      <td>3</td>\n",
       "      <td>2</td>\n",
       "    </tr>\n",
       "    <tr>\n",
       "      <th>2</th>\n",
       "      <td>2019-05-20</td>\n",
       "      <td>1</td>\n",
       "      <td>1343</td>\n",
       "      <td>383</td>\n",
       "      <td>61</td>\n",
       "      <td>Smiths Crinkle Cut Chips Chicken 170g</td>\n",
       "      <td>170</td>\n",
       "      <td>2</td>\n",
       "      <td>2.9</td>\n",
       "      <td>2019</td>\n",
       "      <td>5</td>\n",
       "      <td>May</td>\n",
       "      <td>Monday</td>\n",
       "      <td>2</td>\n",
       "      <td>2</td>\n",
       "    </tr>\n",
       "  </tbody>\n",
       "</table>\n",
       "</div>"
      ],
      "text/plain": [
       "        Date  STORE_NBR  LYLTY_CARD_NBR  TXN_ID  PROD_NBR  \\\n",
       "0 2018-10-17          1            1000       1         5   \n",
       "1 2019-05-14          1            1307     348        66   \n",
       "2 2019-05-20          1            1343     383        61   \n",
       "\n",
       "                            product_name  packet_size  prod_qty  total_sales  \\\n",
       "0        Natural Chip Compny SeaSalt175g          175         2          6.0   \n",
       "1                  CCs Nacho Cheese 175g          175         3          6.3   \n",
       "2  Smiths Crinkle Cut Chips Chicken 170g          170         2          2.9   \n",
       "\n",
       "   Year  month_num month_name    weekday  weekday_num  quarter  \n",
       "0  2018         10    October  Wednesday            4        4  \n",
       "1  2019          5        May    Tuesday            3        2  \n",
       "2  2019          5        May     Monday            2        2  "
      ]
     },
     "execution_count": 13,
     "metadata": {},
     "output_type": "execute_result"
    }
   ],
   "source": [
    "df2.head(3)"
   ]
  },
  {
   "cell_type": "code",
   "execution_count": 14,
   "id": "ef64f459-f11a-4564-9858-d9906337213e",
   "metadata": {},
   "outputs": [
    {
     "data": {
      "text/plain": [
       "(264836, 15)"
      ]
     },
     "execution_count": 14,
     "metadata": {},
     "output_type": "execute_result"
    }
   ],
   "source": [
    "df2.shape"
   ]
  },
  {
   "cell_type": "code",
   "execution_count": 15,
   "id": "f099116c-89d6-4a55-8977-c7b1870d57e6",
   "metadata": {},
   "outputs": [],
   "source": [
    "# import the customers dataset\n",
    "customer_df = pd.read_csv('purchase_behaviour.csv')"
   ]
  },
  {
   "cell_type": "code",
   "execution_count": 16,
   "id": "79eda84f-786e-4185-93f9-fd88cb270aeb",
   "metadata": {},
   "outputs": [
    {
     "data": {
      "text/html": [
       "<div>\n",
       "<style scoped>\n",
       "    .dataframe tbody tr th:only-of-type {\n",
       "        vertical-align: middle;\n",
       "    }\n",
       "\n",
       "    .dataframe tbody tr th {\n",
       "        vertical-align: top;\n",
       "    }\n",
       "\n",
       "    .dataframe thead th {\n",
       "        text-align: right;\n",
       "    }\n",
       "</style>\n",
       "<table border=\"1\" class=\"dataframe\">\n",
       "  <thead>\n",
       "    <tr style=\"text-align: right;\">\n",
       "      <th></th>\n",
       "      <th>LYLTY_CARD_NBR</th>\n",
       "      <th>lifestage</th>\n",
       "      <th>premium_customer</th>\n",
       "    </tr>\n",
       "  </thead>\n",
       "  <tbody>\n",
       "    <tr>\n",
       "      <th>0</th>\n",
       "      <td>1000</td>\n",
       "      <td>YOUNG SINGLES/COUPLES</td>\n",
       "      <td>Premium</td>\n",
       "    </tr>\n",
       "    <tr>\n",
       "      <th>1</th>\n",
       "      <td>1002</td>\n",
       "      <td>YOUNG SINGLES/COUPLES</td>\n",
       "      <td>Mainstream</td>\n",
       "    </tr>\n",
       "    <tr>\n",
       "      <th>2</th>\n",
       "      <td>1003</td>\n",
       "      <td>YOUNG FAMILIES</td>\n",
       "      <td>Budget</td>\n",
       "    </tr>\n",
       "    <tr>\n",
       "      <th>3</th>\n",
       "      <td>1004</td>\n",
       "      <td>OLDER SINGLES/COUPLES</td>\n",
       "      <td>Mainstream</td>\n",
       "    </tr>\n",
       "    <tr>\n",
       "      <th>4</th>\n",
       "      <td>1005</td>\n",
       "      <td>MIDAGE SINGLES/COUPLES</td>\n",
       "      <td>Mainstream</td>\n",
       "    </tr>\n",
       "  </tbody>\n",
       "</table>\n",
       "</div>"
      ],
      "text/plain": [
       "   LYLTY_CARD_NBR               lifestage premium_customer\n",
       "0            1000   YOUNG SINGLES/COUPLES          Premium\n",
       "1            1002   YOUNG SINGLES/COUPLES       Mainstream\n",
       "2            1003          YOUNG FAMILIES           Budget\n",
       "3            1004   OLDER SINGLES/COUPLES       Mainstream\n",
       "4            1005  MIDAGE SINGLES/COUPLES       Mainstream"
      ]
     },
     "execution_count": 16,
     "metadata": {},
     "output_type": "execute_result"
    }
   ],
   "source": [
    "customer_df.head()"
   ]
  },
  {
   "cell_type": "code",
   "execution_count": 17,
   "id": "520bcc16-6110-4d40-8d15-1a950ec9486b",
   "metadata": {},
   "outputs": [
    {
     "data": {
      "text/plain": [
       "(72637, 3)"
      ]
     },
     "execution_count": 17,
     "metadata": {},
     "output_type": "execute_result"
    }
   ],
   "source": [
    "customer_df.shape"
   ]
  },
  {
   "cell_type": "markdown",
   "id": "1235f0a0-16e6-46e5-9c57-1e0029aabfdc",
   "metadata": {},
   "source": [
    "We will merge the both datasets, `transaction dataset` which is stored in df2 and `purchase behaviour dataset` which is stored in customer_df. Since, we want all the records from the `transaction dataset` and all the records which match from the `transaction dataset` so will make a left join and will merge both datasets."
   ]
  },
  {
   "cell_type": "code",
   "execution_count": 19,
   "id": "651727c1-8afa-4a4f-b7b9-5963d7fb321b",
   "metadata": {},
   "outputs": [],
   "source": [
    "# merging both datasets df2 and customer_df\n",
    "merged_df = pd.merge(df2, customer_df, how = 'left', on = 'LYLTY_CARD_NBR')"
   ]
  },
  {
   "cell_type": "code",
   "execution_count": 20,
   "id": "65bf453d-28da-43a4-bad8-9c02d19d86ef",
   "metadata": {},
   "outputs": [],
   "source": [
    "merged_df.drop_duplicates(inplace = True)"
   ]
  },
  {
   "cell_type": "code",
   "execution_count": 21,
   "id": "9d86eaeb-0fa4-460f-b6d4-02e6626cc50d",
   "metadata": {},
   "outputs": [
    {
     "data": {
      "text/html": [
       "<div>\n",
       "<style scoped>\n",
       "    .dataframe tbody tr th:only-of-type {\n",
       "        vertical-align: middle;\n",
       "    }\n",
       "\n",
       "    .dataframe tbody tr th {\n",
       "        vertical-align: top;\n",
       "    }\n",
       "\n",
       "    .dataframe thead th {\n",
       "        text-align: right;\n",
       "    }\n",
       "</style>\n",
       "<table border=\"1\" class=\"dataframe\">\n",
       "  <thead>\n",
       "    <tr style=\"text-align: right;\">\n",
       "      <th></th>\n",
       "      <th>Date</th>\n",
       "      <th>STORE_NBR</th>\n",
       "      <th>LYLTY_CARD_NBR</th>\n",
       "      <th>TXN_ID</th>\n",
       "      <th>PROD_NBR</th>\n",
       "      <th>product_name</th>\n",
       "      <th>packet_size</th>\n",
       "      <th>prod_qty</th>\n",
       "      <th>total_sales</th>\n",
       "      <th>Year</th>\n",
       "      <th>month_num</th>\n",
       "      <th>month_name</th>\n",
       "      <th>weekday</th>\n",
       "      <th>weekday_num</th>\n",
       "      <th>quarter</th>\n",
       "      <th>lifestage</th>\n",
       "      <th>premium_customer</th>\n",
       "    </tr>\n",
       "  </thead>\n",
       "  <tbody>\n",
       "    <tr>\n",
       "      <th>0</th>\n",
       "      <td>2018-10-17</td>\n",
       "      <td>1</td>\n",
       "      <td>1000</td>\n",
       "      <td>1</td>\n",
       "      <td>5</td>\n",
       "      <td>Natural Chip Compny SeaSalt175g</td>\n",
       "      <td>175</td>\n",
       "      <td>2</td>\n",
       "      <td>6.0</td>\n",
       "      <td>2018</td>\n",
       "      <td>10</td>\n",
       "      <td>October</td>\n",
       "      <td>Wednesday</td>\n",
       "      <td>4</td>\n",
       "      <td>4</td>\n",
       "      <td>YOUNG SINGLES/COUPLES</td>\n",
       "      <td>Premium</td>\n",
       "    </tr>\n",
       "    <tr>\n",
       "      <th>1</th>\n",
       "      <td>2019-05-14</td>\n",
       "      <td>1</td>\n",
       "      <td>1307</td>\n",
       "      <td>348</td>\n",
       "      <td>66</td>\n",
       "      <td>CCs Nacho Cheese 175g</td>\n",
       "      <td>175</td>\n",
       "      <td>3</td>\n",
       "      <td>6.3</td>\n",
       "      <td>2019</td>\n",
       "      <td>5</td>\n",
       "      <td>May</td>\n",
       "      <td>Tuesday</td>\n",
       "      <td>3</td>\n",
       "      <td>2</td>\n",
       "      <td>MIDAGE SINGLES/COUPLES</td>\n",
       "      <td>Budget</td>\n",
       "    </tr>\n",
       "    <tr>\n",
       "      <th>2</th>\n",
       "      <td>2019-05-20</td>\n",
       "      <td>1</td>\n",
       "      <td>1343</td>\n",
       "      <td>383</td>\n",
       "      <td>61</td>\n",
       "      <td>Smiths Crinkle Cut Chips Chicken 170g</td>\n",
       "      <td>170</td>\n",
       "      <td>2</td>\n",
       "      <td>2.9</td>\n",
       "      <td>2019</td>\n",
       "      <td>5</td>\n",
       "      <td>May</td>\n",
       "      <td>Monday</td>\n",
       "      <td>2</td>\n",
       "      <td>2</td>\n",
       "      <td>MIDAGE SINGLES/COUPLES</td>\n",
       "      <td>Budget</td>\n",
       "    </tr>\n",
       "  </tbody>\n",
       "</table>\n",
       "</div>"
      ],
      "text/plain": [
       "        Date  STORE_NBR  LYLTY_CARD_NBR  TXN_ID  PROD_NBR  \\\n",
       "0 2018-10-17          1            1000       1         5   \n",
       "1 2019-05-14          1            1307     348        66   \n",
       "2 2019-05-20          1            1343     383        61   \n",
       "\n",
       "                            product_name  packet_size  prod_qty  total_sales  \\\n",
       "0        Natural Chip Compny SeaSalt175g          175         2          6.0   \n",
       "1                  CCs Nacho Cheese 175g          175         3          6.3   \n",
       "2  Smiths Crinkle Cut Chips Chicken 170g          170         2          2.9   \n",
       "\n",
       "   Year  month_num month_name    weekday  weekday_num  quarter  \\\n",
       "0  2018         10    October  Wednesday            4        4   \n",
       "1  2019          5        May    Tuesday            3        2   \n",
       "2  2019          5        May     Monday            2        2   \n",
       "\n",
       "                lifestage premium_customer  \n",
       "0   YOUNG SINGLES/COUPLES          Premium  \n",
       "1  MIDAGE SINGLES/COUPLES           Budget  \n",
       "2  MIDAGE SINGLES/COUPLES           Budget  "
      ]
     },
     "execution_count": 21,
     "metadata": {},
     "output_type": "execute_result"
    }
   ],
   "source": [
    "merged_df.head(3)"
   ]
  },
  {
   "cell_type": "code",
   "execution_count": 22,
   "id": "49c05c3f-d744-4271-b15a-937d57574ebd",
   "metadata": {},
   "outputs": [
    {
     "data": {
      "text/plain": [
       "Date                0\n",
       "STORE_NBR           0\n",
       "LYLTY_CARD_NBR      0\n",
       "TXN_ID              0\n",
       "PROD_NBR            0\n",
       "product_name        0\n",
       "packet_size         0\n",
       "prod_qty            0\n",
       "total_sales         0\n",
       "Year                0\n",
       "month_num           0\n",
       "month_name          0\n",
       "weekday             0\n",
       "weekday_num         0\n",
       "quarter             0\n",
       "lifestage           0\n",
       "premium_customer    0\n",
       "dtype: int64"
      ]
     },
     "execution_count": 22,
     "metadata": {},
     "output_type": "execute_result"
    }
   ],
   "source": [
    "merged_df.isnull().sum()"
   ]
  },
  {
   "cell_type": "markdown",
   "id": "13dc91c2-5860-4a40-b559-504ded03402e",
   "metadata": {},
   "source": [
    "Fortunately no missing values in our dataset."
   ]
  },
  {
   "cell_type": "markdown",
   "id": "e7590180-a2c0-4058-88a6-9e8d653cc6de",
   "metadata": {},
   "source": [
    "Now we will see how many customers are there in each segement of customer as"
   ]
  },
  {
   "cell_type": "code",
   "execution_count": 25,
   "id": "1b67b48f-1ef3-4b7b-8862-2ad5089fa7c9",
   "metadata": {},
   "outputs": [
    {
     "data": {
      "text/html": [
       "<div>\n",
       "<style scoped>\n",
       "    .dataframe tbody tr th:only-of-type {\n",
       "        vertical-align: middle;\n",
       "    }\n",
       "\n",
       "    .dataframe tbody tr th {\n",
       "        vertical-align: top;\n",
       "    }\n",
       "\n",
       "    .dataframe thead th {\n",
       "        text-align: right;\n",
       "    }\n",
       "</style>\n",
       "<table border=\"1\" class=\"dataframe\">\n",
       "  <thead>\n",
       "    <tr style=\"text-align: right;\">\n",
       "      <th></th>\n",
       "      <th>premium_customer</th>\n",
       "      <th>Total Number of customers</th>\n",
       "    </tr>\n",
       "  </thead>\n",
       "  <tbody>\n",
       "    <tr>\n",
       "      <th>0</th>\n",
       "      <td>Budget</td>\n",
       "      <td>93157</td>\n",
       "    </tr>\n",
       "    <tr>\n",
       "      <th>1</th>\n",
       "      <td>Mainstream</td>\n",
       "      <td>101988</td>\n",
       "    </tr>\n",
       "    <tr>\n",
       "      <th>2</th>\n",
       "      <td>Premium</td>\n",
       "      <td>69690</td>\n",
       "    </tr>\n",
       "  </tbody>\n",
       "</table>\n",
       "</div>"
      ],
      "text/plain": [
       "  premium_customer  Total Number of customers\n",
       "0           Budget                      93157\n",
       "1       Mainstream                     101988\n",
       "2          Premium                      69690"
      ]
     },
     "execution_count": 25,
     "metadata": {},
     "output_type": "execute_result"
    }
   ],
   "source": [
    "y = pd.DataFrame(merged_df.groupby('premium_customer')['TXN_ID'].count()).reset_index()\n",
    "y.rename(columns = {'TXN_ID': 'Total Number of customers'}, inplace = True)\n",
    "y"
   ]
  },
  {
   "cell_type": "code",
   "execution_count": 26,
   "id": "3828bb68-8535-41e6-8c68-77877337abfb",
   "metadata": {},
   "outputs": [
    {
     "data": {
      "text/html": [
       "<div>\n",
       "<style scoped>\n",
       "    .dataframe tbody tr th:only-of-type {\n",
       "        vertical-align: middle;\n",
       "    }\n",
       "\n",
       "    .dataframe tbody tr th {\n",
       "        vertical-align: top;\n",
       "    }\n",
       "\n",
       "    .dataframe thead th {\n",
       "        text-align: right;\n",
       "    }\n",
       "</style>\n",
       "<table border=\"1\" class=\"dataframe\">\n",
       "  <thead>\n",
       "    <tr style=\"text-align: right;\">\n",
       "      <th></th>\n",
       "      <th>premium_customer</th>\n",
       "      <th>Number of customers who buy chips</th>\n",
       "      <th>Total Number of customers</th>\n",
       "    </tr>\n",
       "  </thead>\n",
       "  <tbody>\n",
       "    <tr>\n",
       "      <th>0</th>\n",
       "      <td>Budget</td>\n",
       "      <td>17587</td>\n",
       "      <td>93157</td>\n",
       "    </tr>\n",
       "    <tr>\n",
       "      <th>1</th>\n",
       "      <td>Mainstream</td>\n",
       "      <td>19149</td>\n",
       "      <td>101988</td>\n",
       "    </tr>\n",
       "    <tr>\n",
       "      <th>2</th>\n",
       "      <td>Premium</td>\n",
       "      <td>13034</td>\n",
       "      <td>69690</td>\n",
       "    </tr>\n",
       "  </tbody>\n",
       "</table>\n",
       "</div>"
      ],
      "text/plain": [
       "  premium_customer  Number of customers who buy chips  \\\n",
       "0           Budget                              17587   \n",
       "1       Mainstream                              19149   \n",
       "2          Premium                              13034   \n",
       "\n",
       "   Total Number of customers  \n",
       "0                      93157  \n",
       "1                     101988  \n",
       "2                      69690  "
      ]
     },
     "execution_count": 26,
     "metadata": {},
     "output_type": "execute_result"
    }
   ],
   "source": [
    "# Let's merge x and y dataframes\n",
    "segment_df = pd.merge(x,y, how  = 'outer', on = 'premium_customer')\n",
    "segment_df"
   ]
  },
  {
   "cell_type": "markdown",
   "id": "30a04d03-669a-49f0-a856-65352be57c86",
   "metadata": {},
   "source": [
    "Now we can compute the proportion of customers who buy chips products by simply dividing the `Number of customers who buy chips` by `Total Number of customers` and multiply it by 100.\n"
   ]
  },
  {
   "cell_type": "code",
   "execution_count": 28,
   "id": "2f901434-4a6d-45e7-8348-1d48c5114df4",
   "metadata": {},
   "outputs": [],
   "source": [
    "# computing propotion of each segement of the customers\n"
   ]
  },
  {
   "cell_type": "code",
   "execution_count": 29,
   "id": "638974d7-ca0f-4b86-a6d5-52906e454f23",
   "metadata": {},
   "outputs": [
    {
     "data": {
      "text/html": [
       "<div>\n",
       "<style scoped>\n",
       "    .dataframe tbody tr th:only-of-type {\n",
       "        vertical-align: middle;\n",
       "    }\n",
       "\n",
       "    .dataframe tbody tr th {\n",
       "        vertical-align: top;\n",
       "    }\n",
       "\n",
       "    .dataframe thead th {\n",
       "        text-align: right;\n",
       "    }\n",
       "</style>\n",
       "<table border=\"1\" class=\"dataframe\">\n",
       "  <thead>\n",
       "    <tr style=\"text-align: right;\">\n",
       "      <th></th>\n",
       "      <th>premium_customer</th>\n",
       "      <th>Number of customers who buy chips</th>\n",
       "      <th>Total Number of customers</th>\n",
       "      <th>proportion(%)</th>\n",
       "    </tr>\n",
       "  </thead>\n",
       "  <tbody>\n",
       "    <tr>\n",
       "      <th>0</th>\n",
       "      <td>Budget</td>\n",
       "      <td>17587</td>\n",
       "      <td>93157</td>\n",
       "      <td>18.878882</td>\n",
       "    </tr>\n",
       "    <tr>\n",
       "      <th>1</th>\n",
       "      <td>Mainstream</td>\n",
       "      <td>19149</td>\n",
       "      <td>101988</td>\n",
       "      <td>18.775738</td>\n",
       "    </tr>\n",
       "    <tr>\n",
       "      <th>2</th>\n",
       "      <td>Premium</td>\n",
       "      <td>13034</td>\n",
       "      <td>69690</td>\n",
       "      <td>18.702827</td>\n",
       "    </tr>\n",
       "  </tbody>\n",
       "</table>\n",
       "</div>"
      ],
      "text/plain": [
       "  premium_customer  Number of customers who buy chips  \\\n",
       "0           Budget                              17587   \n",
       "1       Mainstream                              19149   \n",
       "2          Premium                              13034   \n",
       "\n",
       "   Total Number of customers  proportion(%)  \n",
       "0                      93157      18.878882  \n",
       "1                     101988      18.775738  \n",
       "2                      69690      18.702827  "
      ]
     },
     "execution_count": 29,
     "metadata": {},
     "output_type": "execute_result"
    }
   ],
   "source": [
    "segment_df['proportion(%)'] = (segment_df['Number of customers who buy chips'] / segment_df['Total Number of customers']) * 100\n",
    "segment_df"
   ]
  },
  {
   "cell_type": "markdown",
   "id": "0c6ba446-d78d-4c1f-91cd-e8859350afac",
   "metadata": {},
   "source": [
    "- 18.87% of the Budget customers buy chips products.\n",
    "- 18.77% of the Mainstream customers buy chips products.\n",
    "- 18.70% of the Premium customers buy chips products.\n",
    "\n",
    "Though, There is approximately 19% of the customers (budget segment) and 18% for both segments (Mainstream and Premium). Since the percentages are very close to each other which conludes that the proportion of the customers who buy chips for each segment is almost same.\n",
    "\n",
    "___"
   ]
  },
  {
   "cell_type": "markdown",
   "id": "579a6f36-136b-4ffc-b923-5e36695bb55d",
   "metadata": {},
   "source": [
    "Now we need to work on\n",
    "**The porportion of the spending on the chips category to overall all the categories**. It will tell us that what proportion of their grocery is spent on the chips."
   ]
  },
  {
   "cell_type": "code",
   "execution_count": 32,
   "id": "addbfd5b-ae7c-410a-8503-9d836c7f4477",
   "metadata": {},
   "outputs": [
    {
     "data": {
      "text/html": [
       "<div>\n",
       "<style scoped>\n",
       "    .dataframe tbody tr th:only-of-type {\n",
       "        vertical-align: middle;\n",
       "    }\n",
       "\n",
       "    .dataframe tbody tr th {\n",
       "        vertical-align: top;\n",
       "    }\n",
       "\n",
       "    .dataframe thead th {\n",
       "        text-align: right;\n",
       "    }\n",
       "</style>\n",
       "<table border=\"1\" class=\"dataframe\">\n",
       "  <thead>\n",
       "    <tr style=\"text-align: right;\">\n",
       "      <th></th>\n",
       "      <th>premium_customer</th>\n",
       "      <th>Sum of total sales of chips products</th>\n",
       "    </tr>\n",
       "  </thead>\n",
       "  <tbody>\n",
       "    <tr>\n",
       "      <th>0</th>\n",
       "      <td>Budget</td>\n",
       "      <td>116978.3</td>\n",
       "    </tr>\n",
       "    <tr>\n",
       "      <th>1</th>\n",
       "      <td>Mainstream</td>\n",
       "      <td>129502.6</td>\n",
       "    </tr>\n",
       "    <tr>\n",
       "      <th>2</th>\n",
       "      <td>Premium</td>\n",
       "      <td>86485.1</td>\n",
       "    </tr>\n",
       "  </tbody>\n",
       "</table>\n",
       "</div>"
      ],
      "text/plain": [
       "  premium_customer  Sum of total sales of chips products\n",
       "0           Budget                              116978.3\n",
       "1       Mainstream                              129502.6\n",
       "2          Premium                               86485.1"
      ]
     },
     "execution_count": 32,
     "metadata": {},
     "output_type": "execute_result"
    }
   ],
   "source": [
    "# total_sales of the chips for each segment of the customers.\n",
    "z = pd.DataFrame(df.groupby('premium_customer')['total_sales'].sum()).reset_index()\n",
    "z.rename(columns = {'total_sales': 'Sum of total sales of chips products'}, inplace = True)\n",
    "z"
   ]
  },
  {
   "cell_type": "code",
   "execution_count": 33,
   "id": "682cf6b0-811b-4199-a827-759c79310adc",
   "metadata": {},
   "outputs": [
    {
     "data": {
      "text/html": [
       "<div>\n",
       "<style scoped>\n",
       "    .dataframe tbody tr th:only-of-type {\n",
       "        vertical-align: middle;\n",
       "    }\n",
       "\n",
       "    .dataframe tbody tr th {\n",
       "        vertical-align: top;\n",
       "    }\n",
       "\n",
       "    .dataframe thead th {\n",
       "        text-align: right;\n",
       "    }\n",
       "</style>\n",
       "<table border=\"1\" class=\"dataframe\">\n",
       "  <thead>\n",
       "    <tr style=\"text-align: right;\">\n",
       "      <th></th>\n",
       "      <th>premium_customer</th>\n",
       "      <th>Sum of total sales of all products</th>\n",
       "    </tr>\n",
       "  </thead>\n",
       "  <tbody>\n",
       "    <tr>\n",
       "      <th>0</th>\n",
       "      <td>Budget</td>\n",
       "      <td>676211.55</td>\n",
       "    </tr>\n",
       "    <tr>\n",
       "      <th>1</th>\n",
       "      <td>Mainstream</td>\n",
       "      <td>750744.50</td>\n",
       "    </tr>\n",
       "    <tr>\n",
       "      <th>2</th>\n",
       "      <td>Premium</td>\n",
       "      <td>507452.95</td>\n",
       "    </tr>\n",
       "  </tbody>\n",
       "</table>\n",
       "</div>"
      ],
      "text/plain": [
       "  premium_customer  Sum of total sales of all products\n",
       "0           Budget                           676211.55\n",
       "1       Mainstream                           750744.50\n",
       "2          Premium                           507452.95"
      ]
     },
     "execution_count": 33,
     "metadata": {},
     "output_type": "execute_result"
    }
   ],
   "source": [
    "# total sales of all products for each segment of the customers\n",
    "j = pd.DataFrame(merged_df.groupby('premium_customer')['total_sales'].sum()).reset_index()\n",
    "j.rename(columns = {'total_sales': 'Sum of total sales of all products'}, inplace = True)\n",
    "j"
   ]
  },
  {
   "cell_type": "code",
   "execution_count": 34,
   "id": "6108395d-3847-4767-93fc-2e4d1411f303",
   "metadata": {},
   "outputs": [
    {
     "data": {
      "text/html": [
       "<div>\n",
       "<style scoped>\n",
       "    .dataframe tbody tr th:only-of-type {\n",
       "        vertical-align: middle;\n",
       "    }\n",
       "\n",
       "    .dataframe tbody tr th {\n",
       "        vertical-align: top;\n",
       "    }\n",
       "\n",
       "    .dataframe thead th {\n",
       "        text-align: right;\n",
       "    }\n",
       "</style>\n",
       "<table border=\"1\" class=\"dataframe\">\n",
       "  <thead>\n",
       "    <tr style=\"text-align: right;\">\n",
       "      <th></th>\n",
       "      <th>premium_customer</th>\n",
       "      <th>Sum of total sales of chips products</th>\n",
       "      <th>Sum of total sales of all products</th>\n",
       "    </tr>\n",
       "  </thead>\n",
       "  <tbody>\n",
       "    <tr>\n",
       "      <th>0</th>\n",
       "      <td>Budget</td>\n",
       "      <td>116978.3</td>\n",
       "      <td>676211.55</td>\n",
       "    </tr>\n",
       "    <tr>\n",
       "      <th>1</th>\n",
       "      <td>Mainstream</td>\n",
       "      <td>129502.6</td>\n",
       "      <td>750744.50</td>\n",
       "    </tr>\n",
       "    <tr>\n",
       "      <th>2</th>\n",
       "      <td>Premium</td>\n",
       "      <td>86485.1</td>\n",
       "      <td>507452.95</td>\n",
       "    </tr>\n",
       "  </tbody>\n",
       "</table>\n",
       "</div>"
      ],
      "text/plain": [
       "  premium_customer  Sum of total sales of chips products  \\\n",
       "0           Budget                              116978.3   \n",
       "1       Mainstream                              129502.6   \n",
       "2          Premium                               86485.1   \n",
       "\n",
       "   Sum of total sales of all products  \n",
       "0                           676211.55  \n",
       "1                           750744.50  \n",
       "2                           507452.95  "
      ]
     },
     "execution_count": 34,
     "metadata": {},
     "output_type": "execute_result"
    }
   ],
   "source": [
    "# merge both datasets z and j\n",
    "merged_sales_df = pd.merge(z,j, how = 'outer', on = 'premium_customer')\n",
    "merged_sales_df"
   ]
  },
  {
   "cell_type": "code",
   "execution_count": 35,
   "id": "a4617f02-b46b-42f6-bc69-cafd7435bd5e",
   "metadata": {},
   "outputs": [
    {
     "data": {
      "text/html": [
       "<div>\n",
       "<style scoped>\n",
       "    .dataframe tbody tr th:only-of-type {\n",
       "        vertical-align: middle;\n",
       "    }\n",
       "\n",
       "    .dataframe tbody tr th {\n",
       "        vertical-align: top;\n",
       "    }\n",
       "\n",
       "    .dataframe thead th {\n",
       "        text-align: right;\n",
       "    }\n",
       "</style>\n",
       "<table border=\"1\" class=\"dataframe\">\n",
       "  <thead>\n",
       "    <tr style=\"text-align: right;\">\n",
       "      <th></th>\n",
       "      <th>premium_customer</th>\n",
       "      <th>Sum of total sales of chips products</th>\n",
       "      <th>Sum of total sales of all products</th>\n",
       "      <th>Proportion of spending on chips(%)</th>\n",
       "    </tr>\n",
       "  </thead>\n",
       "  <tbody>\n",
       "    <tr>\n",
       "      <th>0</th>\n",
       "      <td>Budget</td>\n",
       "      <td>116978.3</td>\n",
       "      <td>676211.55</td>\n",
       "      <td>17.299069</td>\n",
       "    </tr>\n",
       "    <tr>\n",
       "      <th>1</th>\n",
       "      <td>Mainstream</td>\n",
       "      <td>129502.6</td>\n",
       "      <td>750744.50</td>\n",
       "      <td>17.249890</td>\n",
       "    </tr>\n",
       "    <tr>\n",
       "      <th>2</th>\n",
       "      <td>Premium</td>\n",
       "      <td>86485.1</td>\n",
       "      <td>507452.95</td>\n",
       "      <td>17.042979</td>\n",
       "    </tr>\n",
       "  </tbody>\n",
       "</table>\n",
       "</div>"
      ],
      "text/plain": [
       "  premium_customer  Sum of total sales of chips products  \\\n",
       "0           Budget                              116978.3   \n",
       "1       Mainstream                              129502.6   \n",
       "2          Premium                               86485.1   \n",
       "\n",
       "   Sum of total sales of all products  Proportion of spending on chips(%)  \n",
       "0                           676211.55                           17.299069  \n",
       "1                           750744.50                           17.249890  \n",
       "2                           507452.95                           17.042979  "
      ]
     },
     "execution_count": 35,
     "metadata": {},
     "output_type": "execute_result"
    }
   ],
   "source": [
    "# compute proportion of the spending on the chips\n",
    "merged_sales_df['Proportion of spending on chips(%)'] = (merged_sales_df['Sum of total sales of chips products'] / merged_sales_df['Sum of total sales of all products']) * 100\n",
    "merged_sales_df"
   ]
  },
  {
   "cell_type": "markdown",
   "id": "ff80d839-4e16-4baf-81cf-e91fbcb8436d",
   "metadata": {},
   "source": [
    "We can see that the proportion of spending on the chips products is almost same for each segment of the customer and we can say that the customers spend 17% of their grocery spending on the chips products.\n",
    "\n",
    "In other words we can say that the customers spend 17% (on chips products) of their proportion of the income which is spent on grocery items.\n",
    "Also, we can say that the customers spend 83% on the other grocery items and 17% on the chips items.\n",
    "___"
   ]
  },
  {
   "cell_type": "markdown",
   "id": "f796d62e-2e63-475c-9099-656f95dab82b",
   "metadata": {},
   "source": [
    "In the excel file `final_dataset` we have pivot table on sheet named AVG price per unit. In that pivot table we computed the average price per unit sold by customers segments and the Mainstream midage and young singles / couples are more willing to pay more per \n",
    "packet of chips compared to their budget and premium counterpart. As we can see in that in the pivot table that the difference in the average prices per unit is not much larger for different customers segments so we can check that if this difference is statistically different by conducting two-sample independent t-test.\n",
    "\n",
    "We will be conducting t test to see if there is any difference betweeen mainstream vs premium and budget midage and young singles and couples.\n",
    "So in file we took only values which are extracted and can be seen in the file.\n",
    "First group includes the average price per unit sold for mainstream segment young and midage singles and couples and simlarly in group2 we have combined elements of both segments budget and premium and same families are taken in this group. So let's start conducting t test by using python package scipys"
   ]
  },
  {
   "cell_type": "code",
   "execution_count": 38,
   "id": "adfd0f59-10b8-4001-b5d8-5d6cb5b35ae1",
   "metadata": {},
   "outputs": [],
   "source": [
    "# store the observations of average prices in two separate lists\n",
    "grp_a = [3.627997211895, 3.71081193040575]\n",
    "grp_b = [3.424607896, 3.415201005, 3.438390642, 3.374622222]"
   ]
  },
  {
   "cell_type": "code",
   "execution_count": 39,
   "id": "fff02022-6874-4dff-9d15-91b4378321f1",
   "metadata": {},
   "outputs": [],
   "source": [
    "from scipy.stats import ttest_ind\n",
    "t_test, p_value = ttest_ind(grp_a, grp_b, equal_var = False)"
   ]
  },
  {
   "cell_type": "code",
   "execution_count": 40,
   "id": "98fe393f-840b-4eda-9519-564c4f35281c",
   "metadata": {},
   "outputs": [
    {
     "name": "stdout",
     "output_type": "stream",
     "text": [
      "T-statistic: 5.8735, P-value: 0.075929\n"
     ]
    }
   ],
   "source": [
    "print(f\"T-statistic: {t_test:.4f}, P-value: {p_value:.6f}\")"
   ]
  },
  {
   "cell_type": "markdown",
   "id": "686e9036-0d59-4729-ac90-5b1ad1af34d9",
   "metadata": {},
   "source": [
    "P-value is not less than 0.05 (level of significance) so we condlude that the average price per unit sold for the mainstream midage and young singles and couples is not significantly higher than that of budget or premium, young and midage singles and couples.\n",
    "\n",
    "It means that the average price per unit sold is same and are not significantly different."
   ]
  },
  {
   "cell_type": "code",
   "execution_count": null,
   "id": "3c267138-fcf1-4a91-a9ea-5e84617483bb",
   "metadata": {},
   "outputs": [],
   "source": []
  }
 ],
 "metadata": {
  "kernelspec": {
   "display_name": "Python 3 (ipykernel)",
   "language": "python",
   "name": "python3"
  },
  "language_info": {
   "codemirror_mode": {
    "name": "ipython",
    "version": 3
   },
   "file_extension": ".py",
   "mimetype": "text/x-python",
   "name": "python",
   "nbconvert_exporter": "python",
   "pygments_lexer": "ipython3",
   "version": "3.12.4"
  }
 },
 "nbformat": 4,
 "nbformat_minor": 5
}
