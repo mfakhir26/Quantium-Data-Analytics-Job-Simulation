{
 "cells": [
  {
   "cell_type": "markdown",
   "id": "15b21690-08eb-47a0-a54d-365fcffb1ee7",
   "metadata": {},
   "source": [
    "### Load the Libraries"
   ]
  },
  {
   "cell_type": "code",
   "execution_count": 2,
   "id": "8a97279a-0ccd-408b-a322-528539cc8d8c",
   "metadata": {},
   "outputs": [],
   "source": [
    "import pandas as pd\n",
    "import numpy as np\n",
    "import matplotlib.pyplot as plt\n",
    "import seaborn as sns\n",
    "%matplotlib inline"
   ]
  },
  {
   "cell_type": "code",
   "execution_count": 3,
   "id": "0af6a15d-d00c-4cbe-9f3f-9ff2a4672db4",
   "metadata": {},
   "outputs": [],
   "source": [
    "# load the datasets\n",
    "# load the transaction data and named it as 'trans_df'\n",
    "trans_df = pd.read_excel('C:/Users/PMLS/Desktop/Quantium/transaction_data.xlsx')\n",
    "\n",
    "#load the purchase behavior dataset and named it as 'pur_df'\n",
    "pur_df = pd.read_csv('C:/Users/PMLS/Desktop/Quantium/purchase_behaviour.csv')"
   ]
  },
  {
   "cell_type": "code",
   "execution_count": 4,
   "id": "4522107c-802a-42f2-98a4-f6615066a251",
   "metadata": {},
   "outputs": [
    {
     "name": "stdout",
     "output_type": "stream",
     "text": [
      "Transaction Dataset:\n"
     ]
    },
    {
     "data": {
      "text/html": [
       "<div>\n",
       "<style scoped>\n",
       "    .dataframe tbody tr th:only-of-type {\n",
       "        vertical-align: middle;\n",
       "    }\n",
       "\n",
       "    .dataframe tbody tr th {\n",
       "        vertical-align: top;\n",
       "    }\n",
       "\n",
       "    .dataframe thead th {\n",
       "        text-align: right;\n",
       "    }\n",
       "</style>\n",
       "<table border=\"1\" class=\"dataframe\">\n",
       "  <thead>\n",
       "    <tr style=\"text-align: right;\">\n",
       "      <th></th>\n",
       "      <th>Date</th>\n",
       "      <th>STORE_NBR</th>\n",
       "      <th>LYLTY_CARD_NBR</th>\n",
       "      <th>TXN_ID</th>\n",
       "      <th>PROD_NBR</th>\n",
       "      <th>product_name</th>\n",
       "      <th>packet_size</th>\n",
       "      <th>prod_qty</th>\n",
       "      <th>total_sales</th>\n",
       "      <th>Year</th>\n",
       "      <th>month_num</th>\n",
       "      <th>month_name</th>\n",
       "      <th>weekday</th>\n",
       "      <th>weekday_num</th>\n",
       "      <th>quarter</th>\n",
       "    </tr>\n",
       "  </thead>\n",
       "  <tbody>\n",
       "    <tr>\n",
       "      <th>0</th>\n",
       "      <td>2018-10-17</td>\n",
       "      <td>1</td>\n",
       "      <td>1000</td>\n",
       "      <td>1</td>\n",
       "      <td>5</td>\n",
       "      <td>Natural Chip Compny SeaSalt175g</td>\n",
       "      <td>175</td>\n",
       "      <td>2</td>\n",
       "      <td>6.0</td>\n",
       "      <td>2018</td>\n",
       "      <td>10</td>\n",
       "      <td>October</td>\n",
       "      <td>Wednesday</td>\n",
       "      <td>4</td>\n",
       "      <td>4</td>\n",
       "    </tr>\n",
       "    <tr>\n",
       "      <th>1</th>\n",
       "      <td>2019-05-14</td>\n",
       "      <td>1</td>\n",
       "      <td>1307</td>\n",
       "      <td>348</td>\n",
       "      <td>66</td>\n",
       "      <td>CCs Nacho Cheese 175g</td>\n",
       "      <td>175</td>\n",
       "      <td>3</td>\n",
       "      <td>6.3</td>\n",
       "      <td>2019</td>\n",
       "      <td>5</td>\n",
       "      <td>May</td>\n",
       "      <td>Tuesday</td>\n",
       "      <td>3</td>\n",
       "      <td>2</td>\n",
       "    </tr>\n",
       "    <tr>\n",
       "      <th>2</th>\n",
       "      <td>2019-05-20</td>\n",
       "      <td>1</td>\n",
       "      <td>1343</td>\n",
       "      <td>383</td>\n",
       "      <td>61</td>\n",
       "      <td>Smiths Crinkle Cut Chips Chicken 170g</td>\n",
       "      <td>170</td>\n",
       "      <td>2</td>\n",
       "      <td>2.9</td>\n",
       "      <td>2019</td>\n",
       "      <td>5</td>\n",
       "      <td>May</td>\n",
       "      <td>Monday</td>\n",
       "      <td>2</td>\n",
       "      <td>2</td>\n",
       "    </tr>\n",
       "    <tr>\n",
       "      <th>3</th>\n",
       "      <td>2018-08-17</td>\n",
       "      <td>2</td>\n",
       "      <td>2373</td>\n",
       "      <td>974</td>\n",
       "      <td>69</td>\n",
       "      <td>Smiths Chip Thinly S/Cream&amp;Onion 175g</td>\n",
       "      <td>175</td>\n",
       "      <td>5</td>\n",
       "      <td>15.0</td>\n",
       "      <td>2018</td>\n",
       "      <td>8</td>\n",
       "      <td>August</td>\n",
       "      <td>Friday</td>\n",
       "      <td>6</td>\n",
       "      <td>3</td>\n",
       "    </tr>\n",
       "    <tr>\n",
       "      <th>4</th>\n",
       "      <td>2018-08-18</td>\n",
       "      <td>2</td>\n",
       "      <td>2426</td>\n",
       "      <td>1038</td>\n",
       "      <td>108</td>\n",
       "      <td>Kettle Tortilla ChpsHny&amp;Jlpno Chili 150g</td>\n",
       "      <td>150</td>\n",
       "      <td>3</td>\n",
       "      <td>13.8</td>\n",
       "      <td>2018</td>\n",
       "      <td>8</td>\n",
       "      <td>August</td>\n",
       "      <td>Saturday</td>\n",
       "      <td>7</td>\n",
       "      <td>3</td>\n",
       "    </tr>\n",
       "  </tbody>\n",
       "</table>\n",
       "</div>"
      ],
      "text/plain": [
       "        Date  STORE_NBR  LYLTY_CARD_NBR  TXN_ID  PROD_NBR  \\\n",
       "0 2018-10-17          1            1000       1         5   \n",
       "1 2019-05-14          1            1307     348        66   \n",
       "2 2019-05-20          1            1343     383        61   \n",
       "3 2018-08-17          2            2373     974        69   \n",
       "4 2018-08-18          2            2426    1038       108   \n",
       "\n",
       "                               product_name  packet_size  prod_qty  \\\n",
       "0           Natural Chip Compny SeaSalt175g          175         2   \n",
       "1                     CCs Nacho Cheese 175g          175         3   \n",
       "2     Smiths Crinkle Cut Chips Chicken 170g          170         2   \n",
       "3     Smiths Chip Thinly S/Cream&Onion 175g          175         5   \n",
       "4  Kettle Tortilla ChpsHny&Jlpno Chili 150g          150         3   \n",
       "\n",
       "   total_sales  Year  month_num month_name    weekday  weekday_num  quarter  \n",
       "0          6.0  2018         10    October  Wednesday            4        4  \n",
       "1          6.3  2019          5        May    Tuesday            3        2  \n",
       "2          2.9  2019          5        May     Monday            2        2  \n",
       "3         15.0  2018          8     August     Friday            6        3  \n",
       "4         13.8  2018          8     August   Saturday            7        3  "
      ]
     },
     "metadata": {},
     "output_type": "display_data"
    },
    {
     "name": "stdout",
     "output_type": "stream",
     "text": [
      "Purchase Behavior Dataset\n"
     ]
    },
    {
     "data": {
      "text/html": [
       "<div>\n",
       "<style scoped>\n",
       "    .dataframe tbody tr th:only-of-type {\n",
       "        vertical-align: middle;\n",
       "    }\n",
       "\n",
       "    .dataframe tbody tr th {\n",
       "        vertical-align: top;\n",
       "    }\n",
       "\n",
       "    .dataframe thead th {\n",
       "        text-align: right;\n",
       "    }\n",
       "</style>\n",
       "<table border=\"1\" class=\"dataframe\">\n",
       "  <thead>\n",
       "    <tr style=\"text-align: right;\">\n",
       "      <th></th>\n",
       "      <th>LYLTY_CARD_NBR</th>\n",
       "      <th>lifestage</th>\n",
       "      <th>premium_customer</th>\n",
       "    </tr>\n",
       "  </thead>\n",
       "  <tbody>\n",
       "    <tr>\n",
       "      <th>0</th>\n",
       "      <td>1000</td>\n",
       "      <td>YOUNG SINGLES/COUPLES</td>\n",
       "      <td>Premium</td>\n",
       "    </tr>\n",
       "    <tr>\n",
       "      <th>1</th>\n",
       "      <td>1002</td>\n",
       "      <td>YOUNG SINGLES/COUPLES</td>\n",
       "      <td>Mainstream</td>\n",
       "    </tr>\n",
       "    <tr>\n",
       "      <th>2</th>\n",
       "      <td>1003</td>\n",
       "      <td>YOUNG FAMILIES</td>\n",
       "      <td>Budget</td>\n",
       "    </tr>\n",
       "    <tr>\n",
       "      <th>3</th>\n",
       "      <td>1004</td>\n",
       "      <td>OLDER SINGLES/COUPLES</td>\n",
       "      <td>Mainstream</td>\n",
       "    </tr>\n",
       "    <tr>\n",
       "      <th>4</th>\n",
       "      <td>1005</td>\n",
       "      <td>MIDAGE SINGLES/COUPLES</td>\n",
       "      <td>Mainstream</td>\n",
       "    </tr>\n",
       "  </tbody>\n",
       "</table>\n",
       "</div>"
      ],
      "text/plain": [
       "   LYLTY_CARD_NBR               lifestage premium_customer\n",
       "0            1000   YOUNG SINGLES/COUPLES          Premium\n",
       "1            1002   YOUNG SINGLES/COUPLES       Mainstream\n",
       "2            1003          YOUNG FAMILIES           Budget\n",
       "3            1004   OLDER SINGLES/COUPLES       Mainstream\n",
       "4            1005  MIDAGE SINGLES/COUPLES       Mainstream"
      ]
     },
     "metadata": {},
     "output_type": "display_data"
    }
   ],
   "source": [
    "# take a look at the dataset trans_df\n",
    "print('Transaction Dataset:')\n",
    "display(trans_df.head())\n",
    "print('Purchase Behavior Dataset')\n",
    "display(pur_df.head())"
   ]
  },
  {
   "cell_type": "code",
   "execution_count": 5,
   "id": "cb2ad761-fc93-4353-93db-dd3386afbf7e",
   "metadata": {},
   "outputs": [],
   "source": [
    "# make copies of datsets in case if we lose them\n",
    "df1 = trans_df.copy()\n",
    "df2 = pur_df.copy()"
   ]
  },
  {
   "cell_type": "markdown",
   "id": "2b647928-24ea-4440-bf84-dea84c5cb3f9",
   "metadata": {},
   "source": [
    "Here each feature in dataset `trans_df` is defined as:\n",
    "- **Date:** The date on which the product was purchased.\n",
    "- **STORE_NBR:** The Store Number, identifier for retail store location\n",
    "- **LYLTY_CARD_NBR:** Loyalty Card Number, identifier for customer's loyalty\n",
    "- **TXN_ID:** Transaction ID\n",
    "- **PROD_NBR:** Product Number\n",
    "- **product_name:** Name of the product\n",
    "- **packet_size:** The size of one packet (in grams)\n",
    "- **prod_qty:** Quantities of the product that are purchased\n",
    "- **tot_sales:** Total Sales\n",
    "- **month_num**: Month Number\n",
    "- **weekday_num**: weekday Number\n",
    "- **quarter:** Quarter of the year (1,2,3,or 4)\n",
    "\n",
    "___"
   ]
  },
  {
   "cell_type": "markdown",
   "id": "74253713-ad96-4625-8316-748bddac0748",
   "metadata": {},
   "source": [
    "Here each feature in dataset `pur_df` is defined as:\n",
    "- **lifestage:** Customer attribute that identifies whether a customer has a family or not and what point in life they are at e.g. are their children in pre-school/primary/secondary school.\n",
    "- **premium_customer:** Customer segmentation used to differentiate shoppers by the price point of products they buy and the types of products they buy. It is used to identify whether customers may spend more for quality or brand or whether they will purchase the cheapest options."
   ]
  },
  {
   "cell_type": "markdown",
   "id": "347d31be-73b8-4c92-8cb7-ec71e8d32c27",
   "metadata": {},
   "source": [
    "### Exploratory Data Analysis:"
   ]
  },
  {
   "cell_type": "code",
   "execution_count": 9,
   "id": "179fff75-ae65-49a5-af41-66881b1392ad",
   "metadata": {},
   "outputs": [
    {
     "name": "stdout",
     "output_type": "stream",
     "text": [
      "<class 'pandas.core.frame.DataFrame'>\n",
      "RangeIndex: 264836 entries, 0 to 264835\n",
      "Data columns (total 15 columns):\n",
      " #   Column          Non-Null Count   Dtype         \n",
      "---  ------          --------------   -----         \n",
      " 0   Date            264836 non-null  datetime64[ns]\n",
      " 1   STORE_NBR       264836 non-null  int64         \n",
      " 2   LYLTY_CARD_NBR  264836 non-null  int64         \n",
      " 3   TXN_ID          264836 non-null  int64         \n",
      " 4   PROD_NBR        264836 non-null  int64         \n",
      " 5   product_name    264836 non-null  object        \n",
      " 6   packet_size     264836 non-null  int64         \n",
      " 7   prod_qty        264836 non-null  int64         \n",
      " 8   total_sales     264836 non-null  float64       \n",
      " 9   Year            264836 non-null  int64         \n",
      " 10  month_num       264836 non-null  int64         \n",
      " 11  month_name      264836 non-null  object        \n",
      " 12  weekday         264836 non-null  object        \n",
      " 13  weekday_num     264836 non-null  int64         \n",
      " 14  quarter         264836 non-null  int64         \n",
      "dtypes: datetime64[ns](1), float64(1), int64(10), object(3)\n",
      "memory usage: 30.3+ MB\n"
     ]
    }
   ],
   "source": [
    "trans_df.info()"
   ]
  },
  {
   "cell_type": "markdown",
   "id": "1814d98d-b53c-44d3-82dc-ce8e8e1b958a",
   "metadata": {},
   "source": [
    "We can see that there are 15 features in our `trans_df` and there are no null values in our dataset and datatype of each feature is also set."
   ]
  },
  {
   "cell_type": "code",
   "execution_count": 11,
   "id": "685bf463-3493-43c9-baa2-d61f2d616951",
   "metadata": {},
   "outputs": [],
   "source": [
    "# Remove numbers followed by 'g' (like 220g, 100g) in product_name feature\n",
    "trans_df['product_name'] = trans_df['product_name'].str.replace(r'\\s*\\d+\\s*[gG]', '', regex=True)"
   ]
  },
  {
   "cell_type": "code",
   "execution_count": 12,
   "id": "068799b7-7174-4a22-9d4f-86bf7c36fff6",
   "metadata": {},
   "outputs": [
    {
     "data": {
      "text/plain": [
       "count                              264836\n",
       "unique                                114\n",
       "top       Kettle Mozzarella Basil & Pesto\n",
       "freq                                 3304\n",
       "Name: product_name, dtype: object"
      ]
     },
     "execution_count": 12,
     "metadata": {},
     "output_type": "execute_result"
    }
   ],
   "source": [
    "trans_df['product_name'].describe()"
   ]
  },
  {
   "cell_type": "markdown",
   "id": "499cc18f-52e1-4874-811c-dcea54b6ce59",
   "metadata": {},
   "source": [
    "Since there are 114 categories of the products and we are only interested in the chips like products to understand the customer behavior so we will keep only those rows with chips-like category"
   ]
  },
  {
   "cell_type": "code",
   "execution_count": 14,
   "id": "b03f04d7-a798-44a0-972b-bc552ce9a4ae",
   "metadata": {},
   "outputs": [],
   "source": [
    "# keep the only rows with chips in product_name feature\n",
    "trans_df = trans_df[trans_df['product_name'].str.contains('Chips', case=False, na=False)]"
   ]
  },
  {
   "cell_type": "code",
   "execution_count": 15,
   "id": "e100737d-44bf-4eed-b986-5c7b52ac1092",
   "metadata": {
    "scrolled": true
   },
   "outputs": [
    {
     "data": {
      "text/html": [
       "<div>\n",
       "<style scoped>\n",
       "    .dataframe tbody tr th:only-of-type {\n",
       "        vertical-align: middle;\n",
       "    }\n",
       "\n",
       "    .dataframe tbody tr th {\n",
       "        vertical-align: top;\n",
       "    }\n",
       "\n",
       "    .dataframe thead th {\n",
       "        text-align: right;\n",
       "    }\n",
       "</style>\n",
       "<table border=\"1\" class=\"dataframe\">\n",
       "  <thead>\n",
       "    <tr style=\"text-align: right;\">\n",
       "      <th></th>\n",
       "      <th>Date</th>\n",
       "      <th>STORE_NBR</th>\n",
       "      <th>LYLTY_CARD_NBR</th>\n",
       "      <th>TXN_ID</th>\n",
       "      <th>PROD_NBR</th>\n",
       "      <th>product_name</th>\n",
       "      <th>packet_size</th>\n",
       "      <th>prod_qty</th>\n",
       "      <th>total_sales</th>\n",
       "      <th>Year</th>\n",
       "      <th>month_num</th>\n",
       "      <th>month_name</th>\n",
       "      <th>weekday</th>\n",
       "      <th>weekday_num</th>\n",
       "      <th>quarter</th>\n",
       "    </tr>\n",
       "  </thead>\n",
       "  <tbody>\n",
       "    <tr>\n",
       "      <th>2</th>\n",
       "      <td>2019-05-20</td>\n",
       "      <td>1</td>\n",
       "      <td>1343</td>\n",
       "      <td>383</td>\n",
       "      <td>61</td>\n",
       "      <td>Smiths Crinkle Cut Chips Chicken</td>\n",
       "      <td>170</td>\n",
       "      <td>2</td>\n",
       "      <td>2.9</td>\n",
       "      <td>2019</td>\n",
       "      <td>5</td>\n",
       "      <td>May</td>\n",
       "      <td>Monday</td>\n",
       "      <td>2</td>\n",
       "      <td>2</td>\n",
       "    </tr>\n",
       "    <tr>\n",
       "      <th>6</th>\n",
       "      <td>2019-05-16</td>\n",
       "      <td>4</td>\n",
       "      <td>4149</td>\n",
       "      <td>3333</td>\n",
       "      <td>16</td>\n",
       "      <td>Smiths Crinkle Chips Salt &amp; Vinegar</td>\n",
       "      <td>330</td>\n",
       "      <td>1</td>\n",
       "      <td>5.7</td>\n",
       "      <td>2019</td>\n",
       "      <td>5</td>\n",
       "      <td>May</td>\n",
       "      <td>Thursday</td>\n",
       "      <td>5</td>\n",
       "      <td>2</td>\n",
       "    </tr>\n",
       "    <tr>\n",
       "      <th>10</th>\n",
       "      <td>2019-05-17</td>\n",
       "      <td>7</td>\n",
       "      <td>7215</td>\n",
       "      <td>7176</td>\n",
       "      <td>16</td>\n",
       "      <td>Smiths Crinkle Chips Salt &amp; Vinegar</td>\n",
       "      <td>330</td>\n",
       "      <td>1</td>\n",
       "      <td>5.7</td>\n",
       "      <td>2019</td>\n",
       "      <td>5</td>\n",
       "      <td>May</td>\n",
       "      <td>Friday</td>\n",
       "      <td>6</td>\n",
       "      <td>2</td>\n",
       "    </tr>\n",
       "    <tr>\n",
       "      <th>14</th>\n",
       "      <td>2019-05-15</td>\n",
       "      <td>19</td>\n",
       "      <td>19272</td>\n",
       "      <td>16686</td>\n",
       "      <td>44</td>\n",
       "      <td>Thins Chips Light&amp; Tangy</td>\n",
       "      <td>175</td>\n",
       "      <td>1</td>\n",
       "      <td>3.3</td>\n",
       "      <td>2019</td>\n",
       "      <td>5</td>\n",
       "      <td>May</td>\n",
       "      <td>Wednesday</td>\n",
       "      <td>4</td>\n",
       "      <td>2</td>\n",
       "    </tr>\n",
       "    <tr>\n",
       "      <th>33</th>\n",
       "      <td>2019-05-18</td>\n",
       "      <td>45</td>\n",
       "      <td>45220</td>\n",
       "      <td>41651</td>\n",
       "      <td>22</td>\n",
       "      <td>Thins Chips Originl saltd</td>\n",
       "      <td>175</td>\n",
       "      <td>1</td>\n",
       "      <td>3.3</td>\n",
       "      <td>2019</td>\n",
       "      <td>5</td>\n",
       "      <td>May</td>\n",
       "      <td>Saturday</td>\n",
       "      <td>7</td>\n",
       "      <td>2</td>\n",
       "    </tr>\n",
       "  </tbody>\n",
       "</table>\n",
       "</div>"
      ],
      "text/plain": [
       "         Date  STORE_NBR  LYLTY_CARD_NBR  TXN_ID  PROD_NBR  \\\n",
       "2  2019-05-20          1            1343     383        61   \n",
       "6  2019-05-16          4            4149    3333        16   \n",
       "10 2019-05-17          7            7215    7176        16   \n",
       "14 2019-05-15         19           19272   16686        44   \n",
       "33 2019-05-18         45           45220   41651        22   \n",
       "\n",
       "                           product_name  packet_size  prod_qty  total_sales  \\\n",
       "2      Smiths Crinkle Cut Chips Chicken          170         2          2.9   \n",
       "6   Smiths Crinkle Chips Salt & Vinegar          330         1          5.7   \n",
       "10  Smiths Crinkle Chips Salt & Vinegar          330         1          5.7   \n",
       "14             Thins Chips Light& Tangy          175         1          3.3   \n",
       "33            Thins Chips Originl saltd          175         1          3.3   \n",
       "\n",
       "    Year  month_num month_name    weekday  weekday_num  quarter  \n",
       "2   2019          5        May     Monday            2        2  \n",
       "6   2019          5        May   Thursday            5        2  \n",
       "10  2019          5        May     Friday            6        2  \n",
       "14  2019          5        May  Wednesday            4        2  \n",
       "33  2019          5        May   Saturday            7        2  "
      ]
     },
     "execution_count": 15,
     "metadata": {},
     "output_type": "execute_result"
    }
   ],
   "source": [
    "trans_df.head()"
   ]
  },
  {
   "cell_type": "code",
   "execution_count": 16,
   "id": "d23e1dd1-c64f-4db6-a137-7decf77e7028",
   "metadata": {},
   "outputs": [
    {
     "name": "stdout",
     "output_type": "stream",
     "text": [
      "<class 'pandas.core.frame.DataFrame'>\n",
      "Index: 49770 entries, 2 to 264830\n",
      "Data columns (total 15 columns):\n",
      " #   Column          Non-Null Count  Dtype         \n",
      "---  ------          --------------  -----         \n",
      " 0   Date            49770 non-null  datetime64[ns]\n",
      " 1   STORE_NBR       49770 non-null  int64         \n",
      " 2   LYLTY_CARD_NBR  49770 non-null  int64         \n",
      " 3   TXN_ID          49770 non-null  int64         \n",
      " 4   PROD_NBR        49770 non-null  int64         \n",
      " 5   product_name    49770 non-null  object        \n",
      " 6   packet_size     49770 non-null  int64         \n",
      " 7   prod_qty        49770 non-null  int64         \n",
      " 8   total_sales     49770 non-null  float64       \n",
      " 9   Year            49770 non-null  int64         \n",
      " 10  month_num       49770 non-null  int64         \n",
      " 11  month_name      49770 non-null  object        \n",
      " 12  weekday         49770 non-null  object        \n",
      " 13  weekday_num     49770 non-null  int64         \n",
      " 14  quarter         49770 non-null  int64         \n",
      "dtypes: datetime64[ns](1), float64(1), int64(10), object(3)\n",
      "memory usage: 6.1+ MB\n"
     ]
    }
   ],
   "source": [
    "trans_df.info()"
   ]
  },
  {
   "cell_type": "markdown",
   "id": "41be545b-82e6-48fb-85b4-411e19f61b31",
   "metadata": {},
   "source": [
    "Now there are 49,770 rows in our dataset and there are no null values in our dataset which is good thing"
   ]
  },
  {
   "cell_type": "code",
   "execution_count": 18,
   "id": "fe5eb0b2-5538-49a3-b897-e4fec3ceaff8",
   "metadata": {},
   "outputs": [
    {
     "data": {
      "text/html": [
       "<div>\n",
       "<style scoped>\n",
       "    .dataframe tbody tr th:only-of-type {\n",
       "        vertical-align: middle;\n",
       "    }\n",
       "\n",
       "    .dataframe tbody tr th {\n",
       "        vertical-align: top;\n",
       "    }\n",
       "\n",
       "    .dataframe thead th {\n",
       "        text-align: right;\n",
       "    }\n",
       "</style>\n",
       "<table border=\"1\" class=\"dataframe\">\n",
       "  <thead>\n",
       "    <tr style=\"text-align: right;\">\n",
       "      <th></th>\n",
       "      <th>packet_size</th>\n",
       "      <th>prod_qty</th>\n",
       "      <th>total_sales</th>\n",
       "    </tr>\n",
       "  </thead>\n",
       "  <tbody>\n",
       "    <tr>\n",
       "      <th>count</th>\n",
       "      <td>49770.000000</td>\n",
       "      <td>49770.000000</td>\n",
       "      <td>49770.000000</td>\n",
       "    </tr>\n",
       "    <tr>\n",
       "      <th>mean</th>\n",
       "      <td>171.362769</td>\n",
       "      <td>1.906249</td>\n",
       "      <td>6.750197</td>\n",
       "    </tr>\n",
       "    <tr>\n",
       "      <th>std</th>\n",
       "      <td>49.110207</td>\n",
       "      <td>0.340037</td>\n",
       "      <td>2.155060</td>\n",
       "    </tr>\n",
       "    <tr>\n",
       "      <th>min</th>\n",
       "      <td>110.000000</td>\n",
       "      <td>1.000000</td>\n",
       "      <td>1.900000</td>\n",
       "    </tr>\n",
       "    <tr>\n",
       "      <th>25%</th>\n",
       "      <td>160.000000</td>\n",
       "      <td>2.000000</td>\n",
       "      <td>5.800000</td>\n",
       "    </tr>\n",
       "    <tr>\n",
       "      <th>50%</th>\n",
       "      <td>170.000000</td>\n",
       "      <td>2.000000</td>\n",
       "      <td>6.600000</td>\n",
       "    </tr>\n",
       "    <tr>\n",
       "      <th>75%</th>\n",
       "      <td>175.000000</td>\n",
       "      <td>2.000000</td>\n",
       "      <td>7.600000</td>\n",
       "    </tr>\n",
       "    <tr>\n",
       "      <th>max</th>\n",
       "      <td>330.000000</td>\n",
       "      <td>5.000000</td>\n",
       "      <td>28.500000</td>\n",
       "    </tr>\n",
       "  </tbody>\n",
       "</table>\n",
       "</div>"
      ],
      "text/plain": [
       "        packet_size      prod_qty   total_sales\n",
       "count  49770.000000  49770.000000  49770.000000\n",
       "mean     171.362769      1.906249      6.750197\n",
       "std       49.110207      0.340037      2.155060\n",
       "min      110.000000      1.000000      1.900000\n",
       "25%      160.000000      2.000000      5.800000\n",
       "50%      170.000000      2.000000      6.600000\n",
       "75%      175.000000      2.000000      7.600000\n",
       "max      330.000000      5.000000     28.500000"
      ]
     },
     "execution_count": 18,
     "metadata": {},
     "output_type": "execute_result"
    }
   ],
   "source": [
    "trans_df.drop(columns = ['Date', 'PROD_NBR', 'STORE_NBR', 'LYLTY_CARD_NBR', 'TXN_ID', 'Year', 'month_num', 'weekday_num', 'quarter']).describe()"
   ]
  },
  {
   "cell_type": "code",
   "execution_count": 19,
   "id": "cd95029d-f894-4abf-abf3-3c24fcbf8dfa",
   "metadata": {},
   "outputs": [
    {
     "data": {
      "text/plain": [
       "<Axes: ylabel='total_sales'>"
      ]
     },
     "execution_count": 19,
     "metadata": {},
     "output_type": "execute_result"
    },
    {
     "data": {
      "image/png": "[encoded data removed]",
      "text/plain": [
       "<Figure size 640x480 with 1 Axes>"
      ]
     },
     "metadata": {},
     "output_type": "display_data"
    }
   ],
   "source": [
    "sns.boxplot(trans_df['total_sales'])"
   ]
  },
  {
   "cell_type": "markdown",
   "id": "d4bc1141-f8bf-4399-b314-cccf2b077fbb",
   "metadata": {},
   "source": [
    "There are so many outliers as we can see from the above boxplot, we will replace these outliers with extreme values"
   ]
  },
  {
   "cell_type": "code",
   "execution_count": 21,
   "id": "f6265db4-542a-4873-9fdf-142e56a60e10",
   "metadata": {},
   "outputs": [],
   "source": [
    "q1 = trans_df['total_sales'].quantile(0.25)\n",
    "q3 = trans_df['total_sales'].quantile(0.75)\n",
    "IQR = q3 - q1\n",
    "lower_bound = q1 - (1.5 * IQR)\n",
    "upper_bound = q3 + (1.5 * IQR)"
   ]
  },
  {
   "cell_type": "code",
   "execution_count": 22,
   "id": "661083e8-7978-42e7-819e-e22cefb83948",
   "metadata": {},
   "outputs": [
    {
     "data": {
      "text/plain": [
       "total_sales\n",
       "False    45073\n",
       "True      4697\n",
       "Name: count, dtype: int64"
      ]
     },
     "execution_count": 22,
     "metadata": {},
     "output_type": "execute_result"
    }
   ],
   "source": [
    "outlier_mask = (trans_df['total_sales'] < lower_bound) | (trans_df['total_sales'] > upper_bound)\n",
    "outlier_mask.value_counts()"
   ]
  },
  {
   "cell_type": "markdown",
   "id": "251db223-5832-4b46-8640-c9f678726c0e",
   "metadata": {},
   "source": [
    "There are 4,697 outliers in `total_sales` feature."
   ]
  },
  {
   "cell_type": "code",
   "execution_count": 24,
   "id": "a6501928-f35a-4f4f-8151-113269b3ed74",
   "metadata": {},
   "outputs": [],
   "source": [
    "outliers = trans_df[outlier_mask]"
   ]
  },
  {
   "cell_type": "code",
   "execution_count": 25,
   "id": "c8608abe-cdd1-4ec0-adc0-3b9cc87ec9a2",
   "metadata": {},
   "outputs": [],
   "source": [
    "# Replace outliers with upper bound value\n",
    "trans_df['total_sales'] = trans_df['total_sales'].apply(lambda x: upper_bound if x > upper_bound else (lower_bound if x < lower_bound else x))"
   ]
  },
  {
   "cell_type": "code",
   "execution_count": 26,
   "id": "d6be423f-e8ff-4289-8479-cda7a4ae9a2e",
   "metadata": {},
   "outputs": [
    {
     "data": {
      "image/png": "[encoded data removed]",
      "text/plain": [
       "<Figure size 500x400 with 1 Axes>"
      ]
     },
     "metadata": {},
     "output_type": "display_data"
    }
   ],
   "source": [
    "plt.figure(figsize=(5,4))\n",
    "sns.boxplot(trans_df['total_sales'])\n",
    "plt.title('Box plot of Total Sales after caping outliers')\n",
    "plt.show()"
   ]
  },
  {
   "cell_type": "code",
   "execution_count": 27,
   "id": "1fea4938-350e-45ec-a26d-62c7cd522a9b",
   "metadata": {},
   "outputs": [
    {
     "data": {
      "text/plain": [
       "count                                   49770\n",
       "unique                                     21\n",
       "top       Cobs Popd Swt/Chlli &Sr/Cream Chips\n",
       "freq                                     3269\n",
       "Name: product_name, dtype: object"
      ]
     },
     "execution_count": 27,
     "metadata": {},
     "output_type": "execute_result"
    }
   ],
   "source": [
    "trans_df['product_name'].describe()"
   ]
  },
  {
   "cell_type": "markdown",
   "id": "e8e25519-c527-41c5-9835-1872c3b42035",
   "metadata": {},
   "source": [
    "So it says that in our dataframe we have 21 chips-like categories and out of which the category 'Cobs Popd Swt/Chlli &Sr/Cream Chips' is repeated the most which means that this product is purchased the most among other products, and the transaction on this product was made 3,269 times"
   ]
  },
  {
   "cell_type": "code",
   "execution_count": 29,
   "id": "15dac413-08e2-4ce4-a3db-6848698ecbf6",
   "metadata": {},
   "outputs": [
    {
     "data": {
      "text/html": [
       "<div>\n",
       "<style scoped>\n",
       "    .dataframe tbody tr th:only-of-type {\n",
       "        vertical-align: middle;\n",
       "    }\n",
       "\n",
       "    .dataframe tbody tr th {\n",
       "        vertical-align: top;\n",
       "    }\n",
       "\n",
       "    .dataframe thead th {\n",
       "        text-align: right;\n",
       "    }\n",
       "</style>\n",
       "<table border=\"1\" class=\"dataframe\">\n",
       "  <thead>\n",
       "    <tr style=\"text-align: right;\">\n",
       "      <th></th>\n",
       "      <th>product_name</th>\n",
       "      <th>total_sales</th>\n",
       "    </tr>\n",
       "  </thead>\n",
       "  <tbody>\n",
       "    <tr>\n",
       "      <th>7</th>\n",
       "      <td>Smiths Crinkle Chips Salt &amp; Vinegar</td>\n",
       "      <td>31507.7</td>\n",
       "    </tr>\n",
       "    <tr>\n",
       "      <th>3</th>\n",
       "      <td>Doritos Corn Chips Cheese Supreme</td>\n",
       "      <td>27063.5</td>\n",
       "    </tr>\n",
       "    <tr>\n",
       "      <th>4</th>\n",
       "      <td>Doritos Corn Chips Nacho Cheese</td>\n",
       "      <td>26492.7</td>\n",
       "    </tr>\n",
       "    <tr>\n",
       "      <th>5</th>\n",
       "      <td>Doritos Corn Chips Original</td>\n",
       "      <td>26162.8</td>\n",
       "    </tr>\n",
       "    <tr>\n",
       "      <th>0</th>\n",
       "      <td>Cobs Popd Sea Salt Chips</td>\n",
       "      <td>23798.7</td>\n",
       "    </tr>\n",
       "    <tr>\n",
       "      <th>2</th>\n",
       "      <td>Cobs Popd Swt/Chlli &amp;Sr/Cream Chips</td>\n",
       "      <td>23710.2</td>\n",
       "    </tr>\n",
       "    <tr>\n",
       "      <th>1</th>\n",
       "      <td>Cobs Popd Sour Crm &amp;Chives Chips</td>\n",
       "      <td>22870.9</td>\n",
       "    </tr>\n",
       "    <tr>\n",
       "      <th>16</th>\n",
       "      <td>Thins Potato Chips Hot &amp; Spicy</td>\n",
       "      <td>20367.9</td>\n",
       "    </tr>\n",
       "    <tr>\n",
       "      <th>12</th>\n",
       "      <td>Thins Chips Light&amp; Tangy</td>\n",
       "      <td>20053.1</td>\n",
       "    </tr>\n",
       "    <tr>\n",
       "      <th>15</th>\n",
       "      <td>Thins Chips Seasonedchicken</td>\n",
       "      <td>19692.6</td>\n",
       "    </tr>\n",
       "    <tr>\n",
       "      <th>14</th>\n",
       "      <td>Thins Chips Salt &amp; Vinegar</td>\n",
       "      <td>19532.6</td>\n",
       "    </tr>\n",
       "    <tr>\n",
       "      <th>13</th>\n",
       "      <td>Thins Chips Originl saltd</td>\n",
       "      <td>8987.1</td>\n",
       "    </tr>\n",
       "    <tr>\n",
       "      <th>9</th>\n",
       "      <td>Smiths Crinkle Cut Chips Chicken</td>\n",
       "      <td>8198.1</td>\n",
       "    </tr>\n",
       "    <tr>\n",
       "      <th>8</th>\n",
       "      <td>Smiths Crinkle Cut Chips Barbecue</td>\n",
       "      <td>8141.2</td>\n",
       "    </tr>\n",
       "    <tr>\n",
       "      <th>10</th>\n",
       "      <td>Smiths Crinkle Cut Chips Chs&amp;Onion</td>\n",
       "      <td>8123.8</td>\n",
       "    </tr>\n",
       "    <tr>\n",
       "      <th>11</th>\n",
       "      <td>Smiths Crinkle Cut Chips Original</td>\n",
       "      <td>8018.4</td>\n",
       "    </tr>\n",
       "    <tr>\n",
       "      <th>6</th>\n",
       "      <td>French Fries Potato Chips</td>\n",
       "      <td>7948.9</td>\n",
       "    </tr>\n",
       "    <tr>\n",
       "      <th>20</th>\n",
       "      <td>WW Supreme Cheese Corn Chips</td>\n",
       "      <td>5612.3</td>\n",
       "    </tr>\n",
       "    <tr>\n",
       "      <th>17</th>\n",
       "      <td>WW Original Corn Chips</td>\n",
       "      <td>5581.1</td>\n",
       "    </tr>\n",
       "    <tr>\n",
       "      <th>18</th>\n",
       "      <td>WW Original Stacked Chips</td>\n",
       "      <td>5554.2</td>\n",
       "    </tr>\n",
       "    <tr>\n",
       "      <th>19</th>\n",
       "      <td>WW Sour Cream &amp;OnionStacked Chips</td>\n",
       "      <td>5548.2</td>\n",
       "    </tr>\n",
       "  </tbody>\n",
       "</table>\n",
       "</div>"
      ],
      "text/plain": [
       "                           product_name  total_sales\n",
       "7   Smiths Crinkle Chips Salt & Vinegar      31507.7\n",
       "3     Doritos Corn Chips Cheese Supreme      27063.5\n",
       "4       Doritos Corn Chips Nacho Cheese      26492.7\n",
       "5           Doritos Corn Chips Original      26162.8\n",
       "0              Cobs Popd Sea Salt Chips      23798.7\n",
       "2   Cobs Popd Swt/Chlli &Sr/Cream Chips      23710.2\n",
       "1      Cobs Popd Sour Crm &Chives Chips      22870.9\n",
       "16       Thins Potato Chips Hot & Spicy      20367.9\n",
       "12             Thins Chips Light& Tangy      20053.1\n",
       "15          Thins Chips Seasonedchicken      19692.6\n",
       "14           Thins Chips Salt & Vinegar      19532.6\n",
       "13            Thins Chips Originl saltd       8987.1\n",
       "9      Smiths Crinkle Cut Chips Chicken       8198.1\n",
       "8     Smiths Crinkle Cut Chips Barbecue       8141.2\n",
       "10   Smiths Crinkle Cut Chips Chs&Onion       8123.8\n",
       "11    Smiths Crinkle Cut Chips Original       8018.4\n",
       "6             French Fries Potato Chips       7948.9\n",
       "20         WW Supreme Cheese Corn Chips       5612.3\n",
       "17               WW Original Corn Chips       5581.1\n",
       "18            WW Original Stacked Chips       5554.2\n",
       "19    WW Sour Cream &OnionStacked Chips       5548.2"
      ]
     },
     "execution_count": 29,
     "metadata": {},
     "output_type": "execute_result"
    }
   ],
   "source": [
    "# total sales by categories\n",
    "total_sales_by_categories = trans_df.groupby('product_name')['total_sales'].sum().reset_index()\n",
    "total_sales_by_categories.sort_values(by = 'total_sales', ascending= False, inplace = True)\n",
    "total_sales_by_categories"
   ]
  },
  {
   "cell_type": "code",
   "execution_count": 30,
   "id": "9ff1a81e-b936-432f-b00c-e3d154dab031",
   "metadata": {},
   "outputs": [
    {
     "data": {
      "image/png": "[encoded data removed]",
      "text/plain": [
       "<Figure size 640x480 with 1 Axes>"
      ]
     },
     "metadata": {},
     "output_type": "display_data"
    }
   ],
   "source": [
    "sns.barplot(x = 'total_sales', y = 'product_name', data = total_sales_by_categories, color = 'lightgreen')\n",
    "plt.title('Total sales by chips categories')\n",
    "plt.xlabel('Total Sales')\n",
    "plt.ylabel('Products')\n",
    "plt.show()          "
   ]
  },
  {
   "cell_type": "markdown",
   "id": "758a9f1a-7d42-4e9e-be3d-d71122f4493c",
   "metadata": {},
   "source": [
    "From the above plot and the dataframe we can say that the products `Smiths Crinkle Chips Salt & Vinegar`, `Doritos Corn Chips Cheese Supreme`, and `Doritos Corn Chips Nacho Cheese` are the top most 3 products that generated a large revenue among all categories,aro these 3 categories made a total revenue of **31,507**,  **27,063** , and **26,493**, respectively over the past 2 years 2018 and 2019"
   ]
  },
  {
   "cell_type": "code",
   "execution_count": 33,
   "id": "0c8800be-aca2-483d-9b1f-54c6cdb48e0c",
   "metadata": {},
   "outputs": [
    {
     "name": "stdout",
     "output_type": "stream",
     "text": [
      "<class 'pandas.core.frame.DataFrame'>\n",
      "RangeIndex: 72637 entries, 0 to 72636\n",
      "Data columns (total 3 columns):\n",
      " #   Column            Non-Null Count  Dtype \n",
      "---  ------            --------------  ----- \n",
      " 0   LYLTY_CARD_NBR    72637 non-null  int64 \n",
      " 1   lifestage         72637 non-null  object\n",
      " 2   premium_customer  72637 non-null  object\n",
      "dtypes: int64(1), object(2)\n",
      "memory usage: 1.7+ MB\n"
     ]
    }
   ],
   "source": [
    "pur_df.info()"
   ]
  },
  {
   "cell_type": "code",
   "execution_count": 34,
   "id": "9fa38c92-88e3-4e78-8d5b-2f8088d5cd1f",
   "metadata": {},
   "outputs": [
    {
     "data": {
      "text/html": [
       "<div>\n",
       "<style scoped>\n",
       "    .dataframe tbody tr th:only-of-type {\n",
       "        vertical-align: middle;\n",
       "    }\n",
       "\n",
       "    .dataframe tbody tr th {\n",
       "        vertical-align: top;\n",
       "    }\n",
       "\n",
       "    .dataframe thead th {\n",
       "        text-align: right;\n",
       "    }\n",
       "</style>\n",
       "<table border=\"1\" class=\"dataframe\">\n",
       "  <thead>\n",
       "    <tr style=\"text-align: right;\">\n",
       "      <th></th>\n",
       "      <th>LYLTY_CARD_NBR</th>\n",
       "      <th>lifestage</th>\n",
       "      <th>premium_customer</th>\n",
       "    </tr>\n",
       "  </thead>\n",
       "  <tbody>\n",
       "    <tr>\n",
       "      <th>count</th>\n",
       "      <td>7.263700e+04</td>\n",
       "      <td>72637</td>\n",
       "      <td>72637</td>\n",
       "    </tr>\n",
       "    <tr>\n",
       "      <th>unique</th>\n",
       "      <td>NaN</td>\n",
       "      <td>7</td>\n",
       "      <td>3</td>\n",
       "    </tr>\n",
       "    <tr>\n",
       "      <th>top</th>\n",
       "      <td>NaN</td>\n",
       "      <td>RETIREES</td>\n",
       "      <td>Mainstream</td>\n",
       "    </tr>\n",
       "    <tr>\n",
       "      <th>freq</th>\n",
       "      <td>NaN</td>\n",
       "      <td>14805</td>\n",
       "      <td>29245</td>\n",
       "    </tr>\n",
       "    <tr>\n",
       "      <th>mean</th>\n",
       "      <td>1.361859e+05</td>\n",
       "      <td>NaN</td>\n",
       "      <td>NaN</td>\n",
       "    </tr>\n",
       "    <tr>\n",
       "      <th>std</th>\n",
       "      <td>8.989293e+04</td>\n",
       "      <td>NaN</td>\n",
       "      <td>NaN</td>\n",
       "    </tr>\n",
       "    <tr>\n",
       "      <th>min</th>\n",
       "      <td>1.000000e+03</td>\n",
       "      <td>NaN</td>\n",
       "      <td>NaN</td>\n",
       "    </tr>\n",
       "    <tr>\n",
       "      <th>25%</th>\n",
       "      <td>6.620200e+04</td>\n",
       "      <td>NaN</td>\n",
       "      <td>NaN</td>\n",
       "    </tr>\n",
       "    <tr>\n",
       "      <th>50%</th>\n",
       "      <td>1.340400e+05</td>\n",
       "      <td>NaN</td>\n",
       "      <td>NaN</td>\n",
       "    </tr>\n",
       "    <tr>\n",
       "      <th>75%</th>\n",
       "      <td>2.033750e+05</td>\n",
       "      <td>NaN</td>\n",
       "      <td>NaN</td>\n",
       "    </tr>\n",
       "    <tr>\n",
       "      <th>max</th>\n",
       "      <td>2.373711e+06</td>\n",
       "      <td>NaN</td>\n",
       "      <td>NaN</td>\n",
       "    </tr>\n",
       "  </tbody>\n",
       "</table>\n",
       "</div>"
      ],
      "text/plain": [
       "        LYLTY_CARD_NBR lifestage premium_customer\n",
       "count     7.263700e+04     72637            72637\n",
       "unique             NaN         7                3\n",
       "top                NaN  RETIREES       Mainstream\n",
       "freq               NaN     14805            29245\n",
       "mean      1.361859e+05       NaN              NaN\n",
       "std       8.989293e+04       NaN              NaN\n",
       "min       1.000000e+03       NaN              NaN\n",
       "25%       6.620200e+04       NaN              NaN\n",
       "50%       1.340400e+05       NaN              NaN\n",
       "75%       2.033750e+05       NaN              NaN\n",
       "max       2.373711e+06       NaN              NaN"
      ]
     },
     "execution_count": 34,
     "metadata": {},
     "output_type": "execute_result"
    }
   ],
   "source": [
    "pur_df.describe(include = 'all')"
   ]
  },
  {
   "cell_type": "markdown",
   "id": "3acfccf5-64db-4ee2-adeb-d047fa1e8431",
   "metadata": {},
   "source": [
    "`pur_df` overall  looks good and does not need any type of cleaning on this dataset"
   ]
  },
  {
   "cell_type": "code",
   "execution_count": null,
   "id": "f1a268e2-01a0-40ff-977f-e62c83720cd5",
   "metadata": {},
   "outputs": [],
   "source": []
  }
 ],
 "metadata": {
  "kernelspec": {
   "display_name": "Python 3 (ipykernel)",
   "language": "python",
   "name": "python3"
  },
  "language_info": {
   "codemirror_mode": {
    "name": "ipython",
    "version": 3
   },
   "file_extension": ".py",
   "mimetype": "text/x-python",
   "name": "python",
   "nbconvert_exporter": "python",
   "pygments_lexer": "ipython3",
   "version": "3.12.4"
  }
 },
 "nbformat": 4,
 "nbformat_minor": 5
}
